{
  "nbformat": 4,
  "nbformat_minor": 0,
  "metadata": {
    "colab": {
      "provenance": [],
      "mount_file_id": "1y6MXfEaBZS2dmztkONHgW4Svj8IuEN2_",
      "authorship_tag": "ABX9TyOyQcrwyKebDB0ivcyyPBq5",
      "include_colab_link": true
    },
    "kernelspec": {
      "name": "python3",
      "display_name": "Python 3"
    },
    "language_info": {
      "name": "python"
    }
  },
  "cells": [
    {
      "cell_type": "markdown",
      "metadata": {
        "id": "view-in-github",
        "colab_type": "text"
      },
      "source": [
        "<a href=\"https://colab.research.google.com/github/ProteintechLab/Statistics/blob/main/importexport.ipynb\" target=\"_parent\"><img src=\"https://colab.research.google.com/assets/colab-badge.svg\" alt=\"Open In Colab\"/></a>"
      ]
    },
    {
      "cell_type": "code",
      "source": [
        "%load_ext rpy2.ipython\n",
        "\n",
        "# This line of code allows Colab to interpret R commands"
      ],
      "metadata": {
        "id": "jyDGzwG48b8b",
        "colab": {
          "base_uri": "https://localhost:8080/"
        },
        "outputId": "1a63141d-6376-4758-a2b2-6885575338ee"
      },
      "execution_count": 24,
      "outputs": [
        {
          "output_type": "stream",
          "name": "stdout",
          "text": [
            "The rpy2.ipython extension is already loaded. To reload it, use:\n",
            "  %reload_ext rpy2.ipython\n"
          ]
        }
      ]
    },
    {
      "cell_type": "code",
      "execution_count": 25,
      "metadata": {
        "id": "V_v3qOwc8UGh"
      },
      "outputs": [],
      "source": [
        "%%R #This tells python that we are coding in R\n",
        "library(tidyverse)\n",
        "library(readxl)\n",
        "\n",
        "# These load in the tidyverse and read excel packages"
      ]
    },
    {
      "cell_type": "code",
      "source": [
        "%%R\n",
        "download.file(\"https://github.com/ProteintechLab/Statistics/raw/main/IL6plate.xls\", \"IL6plate.xls\")\n",
        "\n",
        "# This downloads the IL6plate data set from our github and stores it as IL6plate.xlsx"
      ],
      "metadata": {
        "colab": {
          "base_uri": "https://localhost:8080/"
        },
        "id": "_GxcKbReiIno",
        "outputId": "36151ea6-ad3a-4925-bd36-e06886fc34de"
      },
      "execution_count": 26,
      "outputs": [
        {
          "output_type": "stream",
          "name": "stderr",
          "text": [
            "WARNING:rpy2.rinterface_lib.callbacks:R[write to console]: trying URL 'https://github.com/ProteintechLab/Statistics/raw/main/IL6plate.xls'\n",
            "\n",
            "WARNING:rpy2.rinterface_lib.callbacks:R[write to console]: Content type 'application/octet-stream'\n",
            "WARNING:rpy2.rinterface_lib.callbacks:R[write to console]:  length 28160 bytes (27 KB)\n",
            "\n",
            "WARNING:rpy2.rinterface_lib.callbacks:R[write to console]: =\n",
            "WARNING:rpy2.rinterface_lib.callbacks:R[write to console]: =\n",
            "WARNING:rpy2.rinterface_lib.callbacks:R[write to console]: =\n",
            "WARNING:rpy2.rinterface_lib.callbacks:R[write to console]: =\n",
            "WARNING:rpy2.rinterface_lib.callbacks:R[write to console]: =\n",
            "WARNING:rpy2.rinterface_lib.callbacks:R[write to console]: =\n",
            "WARNING:rpy2.rinterface_lib.callbacks:R[write to console]: =\n",
            "WARNING:rpy2.rinterface_lib.callbacks:R[write to console]: =\n",
            "WARNING:rpy2.rinterface_lib.callbacks:R[write to console]: =\n",
            "WARNING:rpy2.rinterface_lib.callbacks:R[write to console]: =\n",
            "WARNING:rpy2.rinterface_lib.callbacks:R[write to console]: =\n",
            "WARNING:rpy2.rinterface_lib.callbacks:R[write to console]: =\n",
            "WARNING:rpy2.rinterface_lib.callbacks:R[write to console]: =\n",
            "WARNING:rpy2.rinterface_lib.callbacks:R[write to console]: =\n",
            "WARNING:rpy2.rinterface_lib.callbacks:R[write to console]: =\n",
            "WARNING:rpy2.rinterface_lib.callbacks:R[write to console]: =\n",
            "WARNING:rpy2.rinterface_lib.callbacks:R[write to console]: =\n",
            "WARNING:rpy2.rinterface_lib.callbacks:R[write to console]: =\n",
            "WARNING:rpy2.rinterface_lib.callbacks:R[write to console]: =\n",
            "WARNING:rpy2.rinterface_lib.callbacks:R[write to console]: =\n",
            "WARNING:rpy2.rinterface_lib.callbacks:R[write to console]: =\n",
            "WARNING:rpy2.rinterface_lib.callbacks:R[write to console]: =\n",
            "WARNING:rpy2.rinterface_lib.callbacks:R[write to console]: =\n",
            "WARNING:rpy2.rinterface_lib.callbacks:R[write to console]: =\n",
            "WARNING:rpy2.rinterface_lib.callbacks:R[write to console]: =\n",
            "WARNING:rpy2.rinterface_lib.callbacks:R[write to console]: =\n",
            "WARNING:rpy2.rinterface_lib.callbacks:R[write to console]: =\n",
            "WARNING:rpy2.rinterface_lib.callbacks:R[write to console]: =\n",
            "WARNING:rpy2.rinterface_lib.callbacks:R[write to console]: =\n",
            "WARNING:rpy2.rinterface_lib.callbacks:R[write to console]: =\n",
            "WARNING:rpy2.rinterface_lib.callbacks:R[write to console]: =\n",
            "WARNING:rpy2.rinterface_lib.callbacks:R[write to console]: =\n",
            "WARNING:rpy2.rinterface_lib.callbacks:R[write to console]: =\n",
            "WARNING:rpy2.rinterface_lib.callbacks:R[write to console]: =\n",
            "WARNING:rpy2.rinterface_lib.callbacks:R[write to console]: =\n",
            "WARNING:rpy2.rinterface_lib.callbacks:R[write to console]: =\n",
            "WARNING:rpy2.rinterface_lib.callbacks:R[write to console]: =\n",
            "WARNING:rpy2.rinterface_lib.callbacks:R[write to console]: =\n",
            "WARNING:rpy2.rinterface_lib.callbacks:R[write to console]: =\n",
            "WARNING:rpy2.rinterface_lib.callbacks:R[write to console]: =\n",
            "WARNING:rpy2.rinterface_lib.callbacks:R[write to console]: =\n",
            "WARNING:rpy2.rinterface_lib.callbacks:R[write to console]: =\n",
            "WARNING:rpy2.rinterface_lib.callbacks:R[write to console]: =\n",
            "WARNING:rpy2.rinterface_lib.callbacks:R[write to console]: =\n",
            "WARNING:rpy2.rinterface_lib.callbacks:R[write to console]: =\n",
            "WARNING:rpy2.rinterface_lib.callbacks:R[write to console]: =\n",
            "WARNING:rpy2.rinterface_lib.callbacks:R[write to console]: =\n",
            "WARNING:rpy2.rinterface_lib.callbacks:R[write to console]: =\n",
            "WARNING:rpy2.rinterface_lib.callbacks:R[write to console]: =\n",
            "WARNING:rpy2.rinterface_lib.callbacks:R[write to console]: =\n",
            "WARNING:rpy2.rinterface_lib.callbacks:R[write to console]: \n",
            "\n",
            "WARNING:rpy2.rinterface_lib.callbacks:R[write to console]: downloaded 27 KB\n",
            "\n",
            "\n"
          ]
        }
      ]
    },
    {
      "cell_type": "code",
      "source": [
        "%%R\n",
        "standards<-read_excel(\"IL6plate.xls\", range = \"A14:D22\")\n",
        "colnames(standards)<-c(\"cell\", \"Conc\", \"rep1\", \"rep2\")\n",
        "\n",
        "# This line imports the A14:D22 cells in the IL6plate excel sheet, storing them as 'standards'.\n",
        "# colnames() labels the column, in this cas as cell, Conc, rep1 and rep2"
      ],
      "metadata": {
        "colab": {
          "base_uri": "https://localhost:8080/"
        },
        "id": "YJeO4SQBnT2v",
        "outputId": "690e294b-1797-4fd1-d3ff-ac6396dae82c"
      },
      "execution_count": 27,
      "outputs": [
        {
          "output_type": "stream",
          "name": "stdout",
          "text": [
            "New names:\n",
            "• `` -> `...1`\n",
            "• `` -> `...4`\n"
          ]
        }
      ]
    },
    {
      "cell_type": "code",
      "source": [
        "%%R\n",
        "standardsL<-pivot_longer(standards, starts_with(\"rep\"), names_to = \"replicate\", values_to = \"Abs\")\n",
        "\n",
        "# This code pivots the data to a long format, collecting all columns that start with 'rep'\n",
        "# and assigning the values to absorbance. This groups all rep1 and rep2 values under the heading\n",
        "# replicate, and displays their value as Abs. This new dataset is stored as standardsL"
      ],
      "metadata": {
        "id": "I_hJ_LH5p5RJ"
      },
      "execution_count": 28,
      "outputs": []
    },
    {
      "cell_type": "code",
      "source": [
        "%%R\n",
        "standardsW<-standardsL%>%pivot_wider(names_from = replicate , values_from = Abs )\n",
        "\n",
        "# This code re-formats the long-format data back into the wide format, ungrouping the 'replicate'\n",
        "# back into rep1 and rep2, taking the values for these from the Abs heading.\n",
        "# In this case, standardsW will be the same as standards as standards is already in the wide format,\n",
        "# but it is useful to know how to manipulate your data from long to wide"
      ],
      "metadata": {
        "id": "FmVms5l5WqFd"
      },
      "execution_count": 29,
      "outputs": []
    },
    {
      "cell_type": "code",
      "source": [
        "%%R\n",
        "standards"
      ],
      "metadata": {
        "colab": {
          "base_uri": "https://localhost:8080/"
        },
        "id": "aLotfcxlqUbX",
        "outputId": "e7f67c5d-2e1a-4ebd-da61-704ba11f02ce"
      },
      "execution_count": 30,
      "outputs": [
        {
          "output_type": "stream",
          "name": "stdout",
          "text": [
            "# A tibble: 8 × 4\n",
            "  cell    Conc  rep1  rep2\n",
            "  <chr>  <dbl> <dbl> <dbl>\n",
            "1 A       0    0.054 0.052\n",
            "2 B       7.81 0.134 0.126\n",
            "3 C      15.6  0.183 0.187\n",
            "4 D      31.2  0.307 0.31 \n",
            "5 E      62.5  0.548 0.553\n",
            "6 F     125    0.953 0.949\n",
            "7 G     250    1.68  1.65 \n",
            "8 H     500    2.59  2.54 \n"
          ]
        }
      ]
    },
    {
      "cell_type": "code",
      "source": [
        "%%R\n",
        "standardsW"
      ],
      "metadata": {
        "colab": {
          "base_uri": "https://localhost:8080/"
        },
        "id": "0BrgLvUYZ1XM",
        "outputId": "73f1aa8b-e1d3-42d5-d554-d497031cb316"
      },
      "execution_count": 31,
      "outputs": [
        {
          "output_type": "stream",
          "name": "stdout",
          "text": [
            "# A tibble: 8 × 4\n",
            "  cell    Conc  rep1  rep2\n",
            "  <chr>  <dbl> <dbl> <dbl>\n",
            "1 A       0    0.054 0.052\n",
            "2 B       7.81 0.134 0.126\n",
            "3 C      15.6  0.183 0.187\n",
            "4 D      31.2  0.307 0.31 \n",
            "5 E      62.5  0.548 0.553\n",
            "6 F     125    0.953 0.949\n",
            "7 G     250    1.68  1.65 \n",
            "8 H     500    2.59  2.54 \n"
          ]
        }
      ]
    },
    {
      "cell_type": "code",
      "source": [
        "%%R\n",
        "standardsL"
      ],
      "metadata": {
        "colab": {
          "base_uri": "https://localhost:8080/"
        },
        "id": "AgjDN3qOqgZA",
        "outputId": "8223df47-cff6-4008-959b-bab5d275f038"
      },
      "execution_count": 32,
      "outputs": [
        {
          "output_type": "stream",
          "name": "stdout",
          "text": [
            "# A tibble: 16 × 4\n",
            "   cell    Conc replicate   Abs\n",
            "   <chr>  <dbl> <chr>     <dbl>\n",
            " 1 A       0    rep1      0.054\n",
            " 2 A       0    rep2      0.052\n",
            " 3 B       7.81 rep1      0.134\n",
            " 4 B       7.81 rep2      0.126\n",
            " 5 C      15.6  rep1      0.183\n",
            " 6 C      15.6  rep2      0.187\n",
            " 7 D      31.2  rep1      0.307\n",
            " 8 D      31.2  rep2      0.31 \n",
            " 9 E      62.5  rep1      0.548\n",
            "10 E      62.5  rep2      0.553\n",
            "11 F     125    rep1      0.953\n",
            "12 F     125    rep2      0.949\n",
            "13 G     250    rep1      1.68 \n",
            "14 G     250    rep2      1.65 \n",
            "15 H     500    rep1      2.59 \n",
            "16 H     500    rep2      2.54 \n"
          ]
        }
      ]
    }
  ]
}