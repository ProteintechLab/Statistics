{
  "nbformat": 4,
  "nbformat_minor": 0,
  "metadata": {
    "colab": {
      "provenance": [],
      "include_colab_link": true
    },
    "kernelspec": {
      "name": "python3",
      "display_name": "Python 3"
    },
    "language_info": {
      "name": "python"
    }
  },
  "cells": [
    {
      "cell_type": "markdown",
      "metadata": {
        "id": "view-in-github",
        "colab_type": "text"
      },
      "source": [
        "<a href=\"https://colab.research.google.com/github/ProteintechLab/Statistics/blob/main/importexport.ipynb\" target=\"_parent\"><img src=\"https://colab.research.google.com/assets/colab-badge.svg\" alt=\"Open In Colab\"/></a>"
      ]
    },
    {
      "cell_type": "code",
      "source": [
        "%load_ext rpy2.ipython\n",
        "\n",
        "# This line of code allows Colab to interpret R commands"
      ],
      "metadata": {
        "id": "jyDGzwG48b8b"
      },
      "execution_count": 1,
      "outputs": []
    },
    {
      "cell_type": "code",
      "source": [
        "%%R\n",
        "download.file(\"https://raw.githubusercontent.com/ProteintechLab/Statistics/refs/heads/main/QPCR.csv\", \"qpcr1.csv\")"
      ],
      "metadata": {
        "collapsed": true,
        "colab": {
          "base_uri": "https://localhost:8080/"
        },
        "id": "oFnpc6fCydof",
        "outputId": "a604e58b-657c-4633-80a2-95abc2f4072c"
      },
      "execution_count": 15,
      "outputs": [
    },
    {
      "cell_type": "code",
      "execution_count": 12,
      "metadata": {
        "id": "V_v3qOwc8UGh",
        "colab": {
          "base_uri": "https://localhost:8080/"
        },
        "outputId": "f485ebcc-86e1-4c4e-8be8-c0e71b6cd434"
      },
      "outputs": [
        {
          "output_type": "stream",
          "name": "stdout",
          "text": [
            "── Attaching core tidyverse packages ──────────────────────── tidyverse 2.0.0 ──\n",
            "✔ forcats   1.0.0     ✔ readr     2.1.5\n",
            "✔ lubridate 1.9.4     ✔ stringr   1.5.1\n",
            "✔ purrr     1.0.4     ✔ tibble    3.2.1\n",
            "── Conflicts ────────────────────────────────────────── tidyverse_conflicts() ──\n",
            "✖ dplyr::filter() masks stats::filter()\n",
            "✖ dplyr::lag()    masks stats::lag()\n",
            "ℹ Use the conflicted package (<http://conflicted.r-lib.org/>) to force all conflicts to become errors\n"
          ]
        }
      ],
      "source": [
        "%%R\n",
        "library(tidyverse)\n",
        "# This loads in the tidyverse package"
      ]
    },
    {
      "cell_type": "code",
      "source": [
        "%%R\n",
        "qpcr<-read_csv(\"qpcr1.csv\")"
      ],
      "metadata": {
        "colab": {
          "base_uri": "https://localhost:8080/"
        },
        "id": "fFwCX2GOzp4w",
        "outputId": "34ccdd24-161a-46a5-cc5f-b34c99996793"
      },
      "execution_count": 17,
      "outputs": [
        {
          "output_type": "stream",
          "name": "stdout",
          "text": [
            "Rows: 12 Columns: 4\n",
            "── Column specification ────────────────────────────────────────────────────────\n",
            "Delimiter: \",\"\n",
            "chr (1): Group\n",
            "dbl (3): HouseKeepr, Gene1, Gene2\n",
            "\n",
            "ℹ Use `spec()` to retrieve the full column specification for this data.\n",
            "ℹ Specify the column types or set `show_col_types = FALSE` to quiet this message.\n"
          ]
        }
      ]
    },
    {
      "cell_type": "code",
      "source": [
        "%%R\n",
        "qpcr"
      ],
      "metadata": {
        "colab": {
          "base_uri": "https://localhost:8080/"
        },
        "id": "5TfZj6nb0LDm",
        "outputId": "d2857362-bbed-4c9d-bdad-8d657dc9d16d"
      },
      "execution_count": 18,
      "outputs": [
        {
          "output_type": "stream",
          "name": "stdout",
          "text": [
            "# A tibble: 12 × 4\n",
            "   HouseKeepr Gene1 Gene2 Group\n",
            "        <dbl> <dbl> <dbl> <chr>\n",
            " 1       21.2  29.9  23.5 KO   \n",
            " 2       20.1  25.0  22.2 WT   \n",
            " 3       20.3  30.0  21.3 WT   \n",
            " 4       20.2  25.4  20.4 WT   \n",
            " 5       23.2  30.4  23.5 KO   \n",
            " 6       20.3  24.7  21.2 WT   \n",
            " 7       19.9  24.9  20.6 WT   \n",
            " 8       20.3  29.9  21.2 KO   \n",
            " 9       21.3  25.6  22.1 WT   \n",
            "10       20.8  29.9  21.8 KO   \n",
            "11       20.7  30.4  21.6 KO   \n",
            "12       21.4  25.7  23.0 WT   \n"
          ]
        }
      ]
    }
  ]
}
