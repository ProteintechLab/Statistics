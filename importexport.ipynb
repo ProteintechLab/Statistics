{
  "nbformat": 4,
  "nbformat_minor": 0,
  "metadata": {
    "colab": {
      "provenance": [],
      "include_colab_link": true
    },
    "kernelspec": {
      "name": "python3",
      "display_name": "Python 3"
    },
    "language_info": {
      "name": "python"
    }
  },
  "cells": [
    {
      "cell_type": "markdown",
      "metadata": {
        "id": "view-in-github",
        "colab_type": "text"
      },
      "source": [
        "<a href=\"https://colab.research.google.com/github/ProteintechLab/Statistics/blob/main/importexport.ipynb\" target=\"_parent\"><img src=\"https://colab.research.google.com/assets/colab-badge.svg\" alt=\"Open In Colab\"/></a>"
      ]
    },
    {
      "cell_type": "code",
      "source": [
        "%load_ext rpy2.ipython\n",
        "\n",
        "# This line of code allows Colab to interpret R commands"
      ],
      "metadata": {
        "id": "jyDGzwG48b8b"
      },
      "execution_count": null,
      "outputs": []
    },
    {
      "cell_type": "code",
      "execution_count": null,
      "metadata": {
        "id": "V_v3qOwc8UGh"
      },
      "outputs": [],
      "source": [
        "%%R #This tells python that we are coding in R\n",
        "install.packages(\"readxl\")\n",
        "library(readxl)\n",
        "install.packages(\"tidyr\")\n",
        "library(tidyr)\n",
        "install.packages(\"dplyr\")\n",
        "library(dplyr)\n",
        "library(ggplot2)\n",
        "# These load in the tidyverse, dplyr and read excel packages"
      ]
    },
    {
      "cell_type": "code",
      "source": [
        "%%R\n",
        "download.file(\"https://github.com/ProteintechLab/Statistics/raw/main/IL6plate.xls\", \"IL6plate.xls\")\n",
        "\n",
        "# This downloads the IL6plate data set from our github and stores it as IL6plate.xlsx"
      ],
      "metadata": {
        "id": "_GxcKbReiIno"
      },
      "execution_count": null,
      "outputs": []
    },
    {
      "cell_type": "code",
      "source": [
        "%%R\n",
        "standards<-read_excel(\"IL6plate.xls\", range = \"A14:D22\")\n",
        "colnames(standards)<-c(\"cell\", \"Conc\", \"rep1\", \"rep2\")\n",
        "\n",
        "# This line imports the A14:D22 cells in the IL6plate excel sheet, storing them as 'standards'.\n",
        "# colnames() labels the column, in this case as cell, Conc, rep1 and rep2"
      ],
      "metadata": {
        "colab": {
          "base_uri": "https://localhost:8080/"
        },
        "id": "YJeO4SQBnT2v",
        "outputId": "24aef9d7-5372-40bb-88be-d8d101537ac8"
      },
      "execution_count": null,
      "outputs": [
        {
          "output_type": "stream",
          "name": "stdout",
          "text": [
            "New names:\n",
            "• `` -> `...1`\n",
            "• `` -> `...4`\n"
          ]
        }
      ]
    },
    {
      "cell_type": "code",
      "source": [
        "%%R\n",
        "standardsL<-pivot_longer(standards, starts_with(\"rep\"), names_to = \"replicate\", values_to = \"Abs\")\n",
        "\n",
        "# This code pivots the data to a long format, collecting all columns that start with 'rep'\n",
        "# and assigning the values to absorbance. This groups all rep1 and rep2 values under the heading\n",
        "# replicate, and displays their value as Abs. This new dataset is stored as standardsL"
      ],
      "metadata": {
        "id": "I_hJ_LH5p5RJ"
      },
      "execution_count": null,
      "outputs": []
    },
    {
      "cell_type": "code",
      "source": [
        "%%R\n",
        "standardsW<-standardsL%>%pivot_wider(names_from = replicate , values_from = Abs )\n",
        "\n",
        "# This code re-formats the long-format data back into the wide format, ungrouping the 'replicate'\n",
        "# back into rep1 and rep2, taking the values for these from the Abs heading.\n",
        "# In this case, standardsW will be the same as standards as standards is already in the wide format,\n",
        "# but it is useful to know how to manipulate your data from long to wide"
      ],
      "metadata": {
        "id": "FmVms5l5WqFd"
      },
      "execution_count": null,
      "outputs": []
    },
    {
      "cell_type": "code",
      "source": [
        "%%R\n",
        "standards"
      ],
      "metadata": {
        "colab": {
          "base_uri": "https://localhost:8080/"
        },
        "id": "aLotfcxlqUbX",
        "outputId": "303b7263-0de8-4da4-a007-27bcc4514b74"
      },
      "execution_count": null,
      "outputs": [
        {
          "output_type": "stream",
          "name": "stdout",
          "text": [
            "# A tibble: 8 × 4\n",
            "  cell    Conc  rep1  rep2\n",
            "  <chr>  <dbl> <dbl> <dbl>\n",
            "1 A       0    0.054 0.052\n",
            "2 B       7.81 0.134 0.126\n",
            "3 C      15.6  0.183 0.187\n",
            "4 D      31.2  0.307 0.31 \n",
            "5 E      62.5  0.548 0.553\n",
            "6 F     125    0.953 0.949\n",
            "7 G     250    1.68  1.65 \n",
            "8 H     500    2.59  2.54 \n"
          ]
        }
      ]
    },
    {
      "cell_type": "code",
      "source": [
        "%%R\n",
        "standardsW"
      ],
      "metadata": {
        "colab": {
          "base_uri": "https://localhost:8080/"
        },
        "id": "0BrgLvUYZ1XM",
        "outputId": "4f8643df-66d6-42e2-c146-f33b101954a3"
      },
      "execution_count": null,
      "outputs": [
        {
          "output_type": "stream",
          "name": "stdout",
          "text": [
            "# A tibble: 8 × 4\n",
            "  cell    Conc  rep1  rep2\n",
            "  <chr>  <dbl> <dbl> <dbl>\n",
            "1 A       0    0.054 0.052\n",
            "2 B       7.81 0.134 0.126\n",
            "3 C      15.6  0.183 0.187\n",
            "4 D      31.2  0.307 0.31 \n",
            "5 E      62.5  0.548 0.553\n",
            "6 F     125    0.953 0.949\n",
            "7 G     250    1.68  1.65 \n",
            "8 H     500    2.59  2.54 \n"
          ]
        }
      ]
    },
    {
      "cell_type": "code",
      "source": [
        "%%R\n",
        "standardsL"
      ],
      "metadata": {
        "colab": {
          "base_uri": "https://localhost:8080/"
        },
        "id": "AgjDN3qOqgZA",
        "outputId": "0610e4a7-d320-4be6-ff8b-4fc7258c7a78"
      },
      "execution_count": null,
      "outputs": [
        {
          "output_type": "stream",
          "name": "stdout",
          "text": [
            "# A tibble: 16 × 4\n",
            "   cell    Conc replicate   Abs\n",
            "   <chr>  <dbl> <chr>     <dbl>\n",
            " 1 A       0    rep1      0.054\n",
            " 2 A       0    rep2      0.052\n",
            " 3 B       7.81 rep1      0.134\n",
            " 4 B       7.81 rep2      0.126\n",
            " 5 C      15.6  rep1      0.183\n",
            " 6 C      15.6  rep2      0.187\n",
            " 7 D      31.2  rep1      0.307\n",
            " 8 D      31.2  rep2      0.31 \n",
            " 9 E      62.5  rep1      0.548\n",
            "10 E      62.5  rep2      0.553\n",
            "11 F     125    rep1      0.953\n",
            "12 F     125    rep2      0.949\n",
            "13 G     250    rep1      1.68 \n",
            "14 G     250    rep2      1.65 \n",
            "15 H     500    rep1      2.59 \n",
            "16 H     500    rep2      2.54 \n"
          ]
        }
      ]
    }
  ]
}