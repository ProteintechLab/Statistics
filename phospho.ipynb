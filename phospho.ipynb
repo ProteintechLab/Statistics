{
  "nbformat": 4,
  "nbformat_minor": 0,
  "metadata": {
    "colab": {
      "provenance": [],
      "include_colab_link": true
    },
    "kernelspec": {
      "name": "python3",
      "display_name": "Python 3"
    },
    "language_info": {
      "name": "python"
    }
  },
  "cells": [
    {
      "cell_type": "markdown",
      "metadata": {
        "id": "view-in-github",
        "colab_type": "text"
      },
      "source": [
        "<a href=\"https://colab.research.google.com/github/ProteintechLab/Statistics/blob/main/phospho.ipynb\" target=\"_parent\"><img src=\"https://colab.research.google.com/assets/colab-badge.svg\" alt=\"Open In Colab\"/></a>"
      ]
    },
    {
      "cell_type": "code",
      "source": [
        "%load_ext rpy2.ipython"
      ],
      "metadata": {
        "id": "K_fuSqcU3SNq"
      },
      "execution_count": 1,
      "outputs": []
    },
    {
      "cell_type": "code",
      "execution_count": null,
      "metadata": {
        "id": "vdI5gS-i23of"
      },
      "outputs": [],
      "source": [
        "%%R\n",
        "download.file(\"https://raw.githubusercontent.com/ProteintechLab/Statistics/main/phospho.txt\", \"phospho.txt\")\n",
        "\n",
        "#Fetch the file from Github"
      ]
    },
    {
      "cell_type": "code",
      "source": [
        "%%R\n",
        "library(tidyverse)\n",
        "library(broom)\n",
        "\n",
        "#Load the packages"
      ],
      "metadata": {
        "id": "jWjufa_l3YO5"
      },
      "execution_count": null,
      "outputs": []
    },
    {
      "cell_type": "code",
      "source": [
        "%%R\n",
        "phospho<-read_table(\"phospho.txt\")\n",
        "\n",
        "#Load the file, here we are using read_table for the *.txt file"
      ],
      "metadata": {
        "id": "NtVTjhqT3IVg"
      },
      "execution_count": null,
      "outputs": []
    },
    {
      "cell_type": "code",
      "source": [
        "%%R\n",
        "phospho\n",
        "\n",
        "#Print of the data"
      ],
      "metadata": {
        "colab": {
          "base_uri": "https://localhost:8080/"
        },
        "id": "2N71rsct3fLN",
        "outputId": "a65f0992-1f32-4615-f4b2-e3869310253b"
      },
      "execution_count": 5,
      "outputs": [
        {
          "output_type": "stream",
          "name": "stdout",
          "text": [
            "# A tibble: 36 × 9\n",
            "   pAFT2 pHSP27  pP38  pP90  pMEK pSTAT3 GROUP TREATMENT SUBJECT\n",
            "   <dbl>  <dbl> <dbl> <dbl> <dbl>  <dbl> <chr> <chr>       <dbl>\n",
            " 1 1114.    112  225.  235  1711.  1711. H     Control         1\n",
            " 2  433.    132  156.   86   224.  1711. H     Control         2\n",
            " 3  232.    193  284.   76   224.  1915. H     Control         3\n",
            " 4  727.    176  174.   87   843.   382. H     Control         4\n",
            " 5 1538.    101  252.  228. 2196.  1199. H     Control         5\n",
            " 6 1068.    311  265.   97   995.   547. H     Control         6\n",
            " 7  853.    319  313.  162  2159.   294. H     Control         7\n",
            " 8  191.    352  182.   79   361.  1360. H     Control         8\n",
            " 9 2827.    156  229.  230.  766.   316. H     Control         9\n",
            "10  735.    195  319.  181  1711.  1642. RA    Control        10\n",
            "# ℹ 26 more rows\n",
            "# ℹ Use `print(n = ...)` to see more rows\n"
          ]
        }
      ]
    },
    {
      "cell_type": "code",
      "source": [
        "%%R\n",
        "phosphoL<-phospho%>%pivot_longer(cols=starts_with(\"p\"), values_to=\"Intensity\", names_to=\"protein\")\n",
        "\n",
        "#Here we are reshaping the data to the long format, colllecting any column that starts with a \"p\", naming this \"protein\", the values associated with that column, \"intensity\""
      ],
      "metadata": {
        "id": "SeqpR6FD3_H0"
      },
      "execution_count": 6,
      "outputs": []
    },
    {
      "cell_type": "code",
      "source": [
        "%%R\n",
        "phosphoL\n",
        "#Print the data"
      ],
      "metadata": {
        "colab": {
          "base_uri": "https://localhost:8080/"
        },
        "id": "kPGHZqWo4ZJX",
        "outputId": "3b7231f7-7185-46eb-f60d-c4708b8ff464"
      },
      "execution_count": 7,
      "outputs": [
        {
          "output_type": "stream",
          "name": "stdout",
          "text": [
            "# A tibble: 216 × 5\n",
            "   GROUP TREATMENT SUBJECT protein Intensity\n",
            "   <chr> <chr>       <dbl> <chr>       <dbl>\n",
            " 1 H     Control         1 pAFT2       1114.\n",
            " 2 H     Control         1 pHSP27       112 \n",
            " 3 H     Control         1 pP38         225.\n",
            " 4 H     Control         1 pP90         235 \n",
            " 5 H     Control         1 pMEK        1711.\n",
            " 6 H     Control         1 pSTAT3      1711.\n",
            " 7 H     Control         2 pAFT2        433.\n",
            " 8 H     Control         2 pHSP27       132 \n",
            " 9 H     Control         2 pP38         156.\n",
            "10 H     Control         2 pP90          86 \n",
            "# ℹ 206 more rows\n",
            "# ℹ Use `print(n = ...)` to see more rows\n"
          ]
        }
      ]
    },
    {
      "cell_type": "code",
      "source": [
        "%%R\n",
        "phosphoL%>%ggplot(aes(TREATMENT,log2(Intensity)))+geom_boxplot()+facet_grid(~protein)+theme_bw()\n",
        "\n",
        "#To plot the data, were are making a graph for each protein, using facet_grid, we could also change the group asthetic"
      ],
      "metadata": {
        "colab": {
          "base_uri": "https://localhost:8080/",
          "height": 497
        },
        "id": "dBMg_9bM3lED",
        "outputId": "9a901d84-f900-4160-e091-2906fe2e493a"
      },
      "execution_count": 8,
      "outputs": [
        {
          "output_type": "display_data",
          "data": {
            "image/png": "[encoded data removed]"
          },
          "metadata": {}
        }
      ]
    },
    {
      "cell_type": "code",
      "source": [
        "%%R\n",
        "phosphoL%>%ggplot(aes(TREATMENT,log2(Intensity), fill=protein))+geom_boxplot()+facet_grid(~protein)+theme_bw()\n",
        "#Coloured by protein"
      ],
      "metadata": {
        "colab": {
          "base_uri": "https://localhost:8080/",
          "height": 497
        },
        "id": "51ybQARbMH35",
        "outputId": "d3acd94b-1d65-4150-bc5a-d75b88297b9b"
      },
      "execution_count": 9,
      "outputs": [
        {
          "output_type": "display_data",
          "data": {
            "image/png": "[encoded data removed]"
          },
          "metadata": {}
        }
      ]
    },
    {
      "cell_type": "code",
      "source": [
        "%%R\n",
        "phosphoL%>%ggplot(aes(TREATMENT,log2(Intensity), fill=protein))+geom_boxplot()+theme_bw()\n",
        "\n",
        "#Here we have removed the facet_grid and the data is now plotted on one axis."
      ],
      "metadata": {
        "colab": {
          "base_uri": "https://localhost:8080/",
          "height": 497
        },
        "id": "gkk7ZxEXMSX9",
        "outputId": "54026f4a-7b78-4ead-8328-067032202e7d"
      },
      "execution_count": 10,
      "outputs": [
        {
          "output_type": "display_data",
          "data": {
            "image/png": "[encoded data removed]"
          },
          "metadata": {}
        }
      ]
    },
    {
      "cell_type": "code",
      "source": [
        "%%R\n",
        "pval<-phosphoL %>%\n",
        "  split(.$protein) %>%\n",
        "  map(~ tidy(t.test(log2(Intensity) ~ TREATMENT, data = .x)))\n",
        "pval\n",
        "\n",
        "#Here is an example of performing a T-test on each protein across the treatment, we are using the tidy function\n",
        "#from the Broom package to make the outputs easier to hnadle and record."
      ],
      "metadata": {
        "id": "k2yutTX-7a2i",
        "colab": {
          "base_uri": "https://localhost:8080/"
        },
        "outputId": "1866d875-a541-41b2-84e9-23a2437aa749"
      },
      "execution_count": 20,
      "outputs": [
        {
          "output_type": "stream",
          "name": "stdout",
          "text": [
            "$pAFT2\n",
            "# A tibble: 1 × 10\n",
            "  estimate estimate1 estimate2 statistic    p.value parameter conf.low conf.high\n",
            "     <dbl>     <dbl>     <dbl>     <dbl>      <dbl>     <dbl>    <dbl>     <dbl>\n",
            "1    -2.09      9.34      11.4     -5.78 0.00000174      33.6    -2.83     -1.36\n",
            "# ℹ 2 more variables: method <chr>, alternative <chr>\n",
            "\n",
            "$pHSP27\n",
            "# A tibble: 1 × 10\n",
            "  estimate estimate1 estimate2 statistic    p.value parameter conf.low conf.high\n",
            "     <dbl>     <dbl>     <dbl>     <dbl>      <dbl>     <dbl>    <dbl>     <dbl>\n",
            "1    -3.42      7.72      11.1     -8.56    1.84e-8      22.1    -4.25     -2.60\n",
            "# ℹ 2 more variables: method <chr>, alternative <chr>\n",
            "\n",
            "$pMEK\n",
            "# A tibble: 1 × 10\n",
            "  estimate estimate1 estimate2 statistic p.value parameter conf.low conf.high\n",
            "     <dbl>     <dbl>     <dbl>     <dbl>   <dbl>     <dbl>    <dbl>     <dbl>\n",
            "1    -1.15      9.64      10.8     -3.48 0.00160      28.8    -1.83    -0.475\n",
            "# ℹ 2 more variables: method <chr>, alternative <chr>\n",
            "\n",
            "$pP38\n",
            "# A tibble: 1 × 10\n",
            "  estimate estimate1 estimate2 statistic    p.value parameter conf.low conf.high\n",
            "     <dbl>     <dbl>     <dbl>     <dbl>      <dbl>     <dbl>    <dbl>     <dbl>\n",
            "1   -0.937      7.82      8.76     -7.50    2.00e-8      30.7    -1.19    -0.682\n",
            "# ℹ 2 more variables: method <chr>, alternative <chr>\n",
            "\n",
            "$pP90\n",
            "# A tibble: 1 × 10\n",
            "  estimate estimate1 estimate2 statistic p.value parameter conf.low conf.high\n",
            "     <dbl>     <dbl>     <dbl>     <dbl>   <dbl>     <dbl>    <dbl>     <dbl>\n",
            "1   -0.587      6.91      7.50     -2.43  0.0208      31.7    -1.08   -0.0956\n",
            "# ℹ 2 more variables: method <chr>, alternative <chr>\n",
            "\n",
            "$pSTAT3\n",
            "# A tibble: 1 × 10\n",
            "  estimate estimate1 estimate2 statistic   p.value parameter conf.low conf.high\n",
            "     <dbl>     <dbl>     <dbl>     <dbl>     <dbl>     <dbl>    <dbl>     <dbl>\n",
            "1    -1.63      10.0      11.7     -4.53 0.0000780      31.8    -2.36    -0.895\n",
            "# ℹ 2 more variables: method <chr>, alternative <chr>\n",
            "\n"
          ]
        }
      ]
    },
    {
      "cell_type": "code",
      "source": [
        "%%R\n",
        "pval_combined <- pval %>%\n",
        "  bind_rows(.id = \"protein\")\n",
        "\n",
        "#The output above is list of dataframes, using bind_rows, we can extract the data to a new dataframe"
      ],
      "metadata": {
        "id": "2SQPgLiQNEUd"
      },
      "execution_count": 21,
      "outputs": []
    },
    {
      "cell_type": "code",
      "source": [
        "%%R\n",
        "pval_combined"
      ],
      "metadata": {
        "colab": {
          "base_uri": "https://localhost:8080/"
        },
        "id": "sMP_ESBFNxJU",
        "outputId": "6657f3ea-b84d-45fd-93c2-a27662e69bfe"
      },
      "execution_count": 22,
      "outputs": [
        {
          "output_type": "stream",
          "name": "stdout",
          "text": [
            "# A tibble: 6 × 11\n",
            "  protein estimate estimate1 estimate2 statistic      p.value parameter conf.low\n",
            "  <chr>      <dbl>     <dbl>     <dbl>     <dbl>        <dbl>     <dbl>    <dbl>\n",
            "1 pAFT2     -2.09       9.34     11.4      -5.78 0.00000174        33.6    -2.83\n",
            "2 pHSP27    -3.42       7.72     11.1      -8.56 0.0000000184      22.1    -4.25\n",
            "3 pMEK      -1.15       9.64     10.8      -3.48 0.00160           28.8    -1.83\n",
            "4 pP38      -0.937      7.82      8.76     -7.50 0.0000000200      30.7    -1.19\n",
            "5 pP90      -0.587      6.91      7.50     -2.43 0.0208            31.7    -1.08\n",
            "6 pSTAT3    -1.63      10.0      11.7      -4.53 0.0000780         31.8    -2.36\n",
            "# ℹ 3 more variables: conf.high <dbl>, method <chr>, alternative <chr>\n"
          ]
        }
      ]
    },
    {
      "cell_type": "code",
      "source": [
        "%%R\n",
        "pval_combined <- pval_combined %>%\n",
        "  mutate(p.adjust = p.adjust(p.value, method = \"BH\"))\n",
        "\n",
        "#Now we have p values we can correct for multiple comparisons"
      ],
      "metadata": {
        "id": "3nuHYjgfOAGS"
      },
      "execution_count": 23,
      "outputs": []
    },
    {
      "cell_type": "code",
      "source": [
        "\n",
        "%%R\n",
        "pval_combined <- pval_combined %>%\n",
        "  mutate(p.adjust = p.adjust(p.value, method = \"bonferroni\"))\n",
        "\n",
        "#We can also use the Bonferroni correction"
      ],
      "metadata": {
        "id": "BSzfblSlPBwP"
      },
      "execution_count": 26,
      "outputs": []
    },
    {
      "cell_type": "code",
      "source": [
        "%%R\n",
        "pval_combined%>%select(protein, p.value, p.adjust)\n",
        "\n",
        "#To disply the p values and corrected pvalues, we have selected 3 columns"
      ],
      "metadata": {
        "colab": {
          "base_uri": "https://localhost:8080/"
        },
        "id": "4lnvE0fHOlfb",
        "outputId": "c39e4203-5bf4-46be-acda-5d3f63ef4b73"
      },
      "execution_count": 27,
      "outputs": [
        {
          "output_type": "stream",
          "name": "stdout",
          "text": [
            "# A tibble: 6 × 3\n",
            "  protein      p.value    p.adjust\n",
            "  <chr>          <dbl>       <dbl>\n",
            "1 pAFT2   0.00000174   0.0000104  \n",
            "2 pHSP27  0.0000000184 0.000000110\n",
            "3 pMEK    0.00160      0.00960    \n",
            "4 pP38    0.0000000200 0.000000120\n",
            "5 pP90    0.0208       0.125      \n",
            "6 pSTAT3  0.0000780    0.000468   \n"
          ]
        }
      ]
    }
  ]
}