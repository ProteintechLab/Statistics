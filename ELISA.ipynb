{
  "nbformat": 4,
  "nbformat_minor": 0,
  "metadata": {
    "colab": {
      "provenance": [],
      "include_colab_link": true
    },
    "kernelspec": {
      "name": "python3",
      "display_name": "Python 3"
    },
    "language_info": {
      "name": "python"
    }
  },
  "cells": [
    {
      "cell_type": "markdown",
      "metadata": {
        "id": "view-in-github",
        "colab_type": "text"
      },
      "source": [
        "<a href=\"https://colab.research.google.com/github/ProteintechLab/Statistics/blob/main/ELISA.ipynb\" target=\"_parent\"><img src=\"https://colab.research.google.com/assets/colab-badge.svg\" alt=\"Open In Colab\"/></a>"
      ]
    },
    {
      "cell_type": "code",
      "source": [
        "%load_ext rpy2.ipython"
      ],
      "metadata": {
        "id": "MvwfHdBRmCYN"
      },
      "execution_count": null,
      "outputs": []
    },
    {
      "cell_type": "code",
      "source": [
        "%%R\n",
        "library(tidyverse)\n",
        "library(readxl)\n",
        "\n",
        "#Load the packages"
      ],
      "metadata": {
        "id": "UaBD2YElmM3C"
      },
      "execution_count": null,
      "outputs": []
    },
    {
      "cell_type": "code",
      "source": [
        "%%R\n",
        "install.packages(\"cowplot\")\n",
        "\n",
        "#Install cowplot"
      ],
      "metadata": {
        "id": "GAU1t42jn93G"
      },
      "execution_count": null,
      "outputs": []
    },
    {
      "cell_type": "code",
      "execution_count": null,
      "metadata": {
        "id": "jnokdEtLkz20"
      },
      "outputs": [],
      "source": [
        "%%R\n",
        "download.file(\"https://raw.githubusercontent.com/ProteintechLab/Statistics/main/TNF%20ELISA.xlsx\",\"TNF_ELISA.xlsx\")\n",
        "\n",
        "#Download the files"
      ]
    },
    {
      "cell_type": "markdown",
      "source": [
        "#Plotting the standard curve"
      ],
      "metadata": {
        "id": "S-JjdhBwuWYO"
      }
    },
    {
      "cell_type": "code",
      "source": [
        "%%R\n",
        "#Example to import the data and select the range of cells from the excel sheet\n",
        "TNFdata<-read_excel(\"TNF_ELISA.xlsx\", range = \"A1:I9\")"
      ],
      "metadata": {
        "id": "V9YPF7TXsFfJ"
      },
      "execution_count": null,
      "outputs": []
    },
    {
      "cell_type": "code",
      "source": [
        "%%R\n",
        "TNFdata\n",
        "\n",
        "#Print the table"
      ],
      "metadata": {
        "colab": {
          "base_uri": "https://localhost:8080/"
        },
        "id": "FO5PC2VfXo5G",
        "outputId": "d3ce0dad-ac42-4922-c772-c58836d0acd1"
      },
      "execution_count": null,
      "outputs": [
        {
          "output_type": "stream",
          "name": "stdout",
          "text": [
            "# A tibble: 8 × 9\n",
            "  `450-540nm`   `1`   `2`   `3`   `4`   `5`   `6`    `7`    `8`\n",
            "        <dbl> <dbl> <dbl> <dbl> <dbl> <dbl> <dbl>  <dbl>  <dbl>\n",
            "1           1 1.84  1.84  0.054 0.052 0.061 0.059 0.0565 0.0543\n",
            "2           2 1.24  1.29  0.053 0.055 0.07  0.061 0.0588 0.0585\n",
            "3           3 0.757 0.735 1.83  1.84  1.98  1.98  1.91   1.90  \n",
            "4           4 0.427 0.456 0.074 0.075 0.065 0.063 0.65   0.067 \n",
            "5           5 0.251 0.238 0.069 0.071 0.063 0.062 0.65   0.066 \n",
            "6           6 0.145 0.142 1.39  1.39  1.57  1.56  1.49   1.49  \n",
            "7           7 0.096 0.089 0     0     0     0     0      0     \n",
            "8           8 0.049 0.041 0     0     0     0     0      0     \n"
          ]
        }
      ]
    },
    {
      "cell_type": "code",
      "source": [
        "%%R\n",
        "plate_plan<-read_excel(\"TNF_ELISA.xlsx\", range = \"A12:I20\")\n",
        "\n",
        "#From the same excel file we have added the plate plan"
      ],
      "metadata": {
        "id": "Eym5RZc4HrG-",
        "outputId": "a8e4b486-1421-4032-89da-c6977617b03d",
        "colab": {
          "base_uri": "https://localhost:8080/"
        }
      },
      "execution_count": null,
      "outputs": [
        {
          "output_type": "stream",
          "name": "stdout",
          "text": [
            "New names:\n",
            "• `` -> `...1`\n"
          ]
        }
      ]
    },
    {
      "cell_type": "code",
      "source": [
        "%%R\n",
        "plate_plan\n",
        "\n",
        "#Here is the meatadata for the experiment and the curve values"
      ],
      "metadata": {
        "colab": {
          "base_uri": "https://localhost:8080/"
        },
        "id": "drpcW5gyJcEu",
        "outputId": "6a9d80bd-cdac-47c8-be20-ab2f15f32d89"
      },
      "execution_count": null,
      "outputs": [
        {
          "output_type": "stream",
          "name": "stdout",
          "text": [
            "# A tibble: 8 × 9\n",
            "  ...1  Standard_1 Standard_2 Exp_1_r1 Exp_1_r2 Exp_2_r1 Exp_2_r2 Exp_3_r1\n",
            "  <chr>      <dbl>      <dbl> <chr>    <chr>    <chr>    <chr>    <chr>   \n",
            "1 A         1000       1000   24hr M0  24hr M0  24hr M0  24hr M0  24hr M0 \n",
            "2 B          500        500   24hr M2  24hr M2  24hr M2  24hr M2  24hr M2 \n",
            "3 C          250        250   24hr M1  24hr M1  24hr M1  24hr M1  24hr M1 \n",
            "4 D          125        125   48hr M0  48hr M0  48hr M0  48hr M0  48hr M0 \n",
            "5 E           62.5       62.5 48hr M2  48hr M2  48hr M2  48hr M2  48hr M2 \n",
            "6 F           31.2       31.2 48hr M1  48hr M1  48hr M1  48hr M1  48hr M1 \n",
            "7 G           15.6       15.6 <NA>     <NA>     <NA>     <NA>     <NA>    \n",
            "8 H            0          0   <NA>     <NA>     <NA>     <NA>     <NA>    \n",
            "# ℹ 1 more variable: Exp_3_r2 <chr>\n"
          ]
        }
      ]
    },
    {
      "cell_type": "code",
      "source": [
        "%%R\n",
        "TNF_standards<-plate_plan[,c(1:2)]\n",
        "TNF_standard_values<-TNFdata[,c(1:3)]\n",
        "\n",
        "#select columns 1 and 2 from the plan and the data, we are selecting the columns using [,]. If we have values [1,], we would select rows and [,1] columns.\n",
        "#row or column 1. In the code above we are collecting column 1-2 and 1-3.\n"
      ],
      "metadata": {
        "id": "hQlx_JlBZ-8l"
      },
      "execution_count": null,
      "outputs": []
    },
    {
      "cell_type": "code",
      "source": [
        "%%R\n",
        "colnames(TNF_standard_values)\n",
        "\n",
        "#colnames(TNF_standards)  # Replace dataset_x with your actual data frame variable"
      ],
      "metadata": {
        "id": "ZNvwk6FoCer8",
        "outputId": "e9df2a5b-ab00-46e6-f413-ec377ecd41e2",
        "colab": {
          "base_uri": "https://localhost:8080/"
        }
      },
      "execution_count": null,
      "outputs": [
        {
          "output_type": "stream",
          "name": "stdout",
          "text": [
            "[1] \"450-540nm\" \"1\"         \"2\"        \n"
          ]
        }
      ]
    },
    {
      "cell_type": "code",
      "source": [
        "%%R\n",
        "standards<-cbind(TNF_standard_values, TNF_standards)\n",
        "\n",
        "#Now we join them together, using the row values for the plate A, B,C....\n",
        "#Here we are simply adding the columns together as they are in the correct order"
      ],
      "metadata": {
        "id": "1sZtkV6UKQI9"
      },
      "execution_count": null,
      "outputs": []
    },
    {
      "cell_type": "code",
      "source": [
        "%%R\n",
        "\n",
        "standards\n",
        "#Print the standard data (background corrected)"
      ],
      "metadata": {
        "colab": {
          "base_uri": "https://localhost:8080/"
        },
        "id": "-O9Juxy8URr6",
        "outputId": "a88bd7c2-0abb-468d-bea6-380d115dc9a2"
      },
      "execution_count": null,
      "outputs": [
        {
          "output_type": "stream",
          "name": "stdout",
          "text": [
            "  450-540nm     1     2 ...1 Standard_1\n",
            "1         1 1.837 1.845    A   1000.000\n",
            "2         2 1.241 1.293    B    500.000\n",
            "3         3 0.757 0.735    C    250.000\n",
            "4         4 0.427 0.456    D    125.000\n",
            "5         5 0.251 0.238    E     62.500\n",
            "6         6 0.145 0.142    F     31.250\n",
            "7         7 0.096 0.089    G     15.625\n",
            "8         8 0.049 0.041    H      0.000\n"
          ]
        }
      ]
    },
    {
      "cell_type": "code",
      "source": [
        "%%R\n",
        "colnames(standards)<-c(\"Row\",\"rep1\",\"rep2\", \"Plate_Row\", \"Conc\")\n",
        "\n",
        "#Change the column names to remove the numeric names"
      ],
      "metadata": {
        "id": "1ol_UMIjLzRO"
      },
      "execution_count": null,
      "outputs": []
    },
    {
      "cell_type": "code",
      "source": [
        "%%R\n",
        "colnames(standards)"
      ],
      "metadata": {
        "id": "7xmQbYoqDoLq",
        "outputId": "0705df81-f621-4a0b-fbe6-8a7e209ee887",
        "colab": {
          "base_uri": "https://localhost:8080/"
        }
      },
      "execution_count": null,
      "outputs": [
        {
          "output_type": "stream",
          "name": "stdout",
          "text": [
            "[1] \"Row\"       \"rep1\"      \"rep2\"      \"Plate_Row\" \"Conc\"     \n"
          ]
        }
      ]
    },
    {
      "cell_type": "code",
      "source": [
        "%%R\n",
        "standards\n",
        "#Check our new names"
      ],
      "metadata": {
        "id": "QnBE4tsSEIQt",
        "outputId": "c053bf36-cc78-4490-cc82-b3de901d9125",
        "colab": {
          "base_uri": "https://localhost:8080/"
        }
      },
      "execution_count": null,
      "outputs": [
        {
          "output_type": "stream",
          "name": "stdout",
          "text": [
            "  Row  rep1  rep2 Plate_Row     Conc\n",
            "1   1 1.837 1.845         A 1000.000\n",
            "2   2 1.241 1.293         B  500.000\n",
            "3   3 0.757 0.735         C  250.000\n",
            "4   4 0.427 0.456         D  125.000\n",
            "5   5 0.251 0.238         E   62.500\n",
            "6   6 0.145 0.142         F   31.250\n",
            "7   7 0.096 0.089         G   15.625\n",
            "8   8 0.049 0.041         H    0.000\n"
          ]
        }
      ]
    },
    {
      "cell_type": "code",
      "execution_count": null,
      "metadata": {
        "id": "uIZacIA8juEn"
      },
      "outputs": [],
      "source": [
        "%%R\n",
        "standardsL<-pivot_longer(standards, starts_with(\"rep\"), names_to = \"replicate\", values_to = \"Abs\")\n",
        "\n",
        "#Change the format of the data, wide to long format, any column starting with \"rep\" is gathered,\n",
        "#creating a new column called replicate, with the values as \"Abs\""
      ]
    },
    {
      "cell_type": "code",
      "execution_count": null,
      "metadata": {
        "colab": {
          "base_uri": "https://localhost:8080/"
        },
        "id": "SP-VfW8Hq0NV",
        "outputId": "d850bb3a-4750-47ef-e51e-d79a3898203d"
      },
      "outputs": [
        {
          "output_type": "stream",
          "name": "stdout",
          "text": [
            "# A tibble: 16 × 5\n",
            "     Row Plate_Row   Conc replicate   Abs\n",
            "   <dbl> <chr>      <dbl> <chr>     <dbl>\n",
            " 1     1 A         1000   rep1      1.84 \n",
            " 2     1 A         1000   rep2      1.84 \n",
            " 3     2 B          500   rep1      1.24 \n",
            " 4     2 B          500   rep2      1.29 \n",
            " 5     3 C          250   rep1      0.757\n",
            " 6     3 C          250   rep2      0.735\n",
            " 7     4 D          125   rep1      0.427\n",
            " 8     4 D          125   rep2      0.456\n",
            " 9     5 E           62.5 rep1      0.251\n",
            "10     5 E           62.5 rep2      0.238\n",
            "11     6 F           31.2 rep1      0.145\n",
            "12     6 F           31.2 rep2      0.142\n",
            "13     7 G           15.6 rep1      0.096\n",
            "14     7 G           15.6 rep2      0.089\n",
            "15     8 H            0   rep1      0.049\n",
            "16     8 H            0   rep2      0.041\n"
          ]
        }
      ],
      "source": [
        "%%R\n",
        "standardsL\n",
        "\n",
        "#Show the new dataframe called standardsL"
      ]
    },
    {
      "cell_type": "code",
      "source": [
        "%%R\n",
        "meanStandards<-standardsL%>%group_by(Conc)%>%summarise(meanAbs=mean(Abs))\n",
        "meanStandards\n",
        "\n",
        "#Make a summary for the two replicates"
      ],
      "metadata": {
        "colab": {
          "base_uri": "https://localhost:8080/"
        },
        "id": "togA-CRqoWVp",
        "outputId": "4f64d0bd-fd89-4605-b1c4-b22f186a4a9a"
      },
      "execution_count": null,
      "outputs": [
        {
          "output_type": "stream",
          "name": "stdout",
          "text": [
            "# A tibble: 8 × 2\n",
            "    Conc meanAbs\n",
            "   <dbl>   <dbl>\n",
            "1    0    0.045 \n",
            "2   15.6  0.0925\n",
            "3   31.2  0.144 \n",
            "4   62.5  0.244 \n",
            "5  125    0.442 \n",
            "6  250    0.746 \n",
            "7  500    1.27  \n",
            "8 1000    1.84  \n"
          ]
        }
      ]
    },
    {
      "cell_type": "code",
      "source": [
        "%%R\n",
        "calc<-lm(meanAbs~Conc, data=meanStandards)\n",
        "\n",
        "#perform the regression, here we assuming the data in linear"
      ],
      "metadata": {
        "id": "FzSsFJE2qHBl"
      },
      "execution_count": null,
      "outputs": []
    },
    {
      "cell_type": "code",
      "source": [
        "%%R\n",
        "summary(calc)\n",
        "#show the regression analysis"
      ],
      "metadata": {
        "colab": {
          "base_uri": "https://localhost:8080/"
        },
        "id": "lDM4d2Bi4arQ",
        "outputId": "dc9de86e-cdc5-4415-f33a-c6a02e6bca39"
      },
      "execution_count": null,
      "outputs": [
        {
          "output_type": "stream",
          "name": "stdout",
          "text": [
            "\n",
            "Call:\n",
            "lm(formula = meanAbs ~ Conc, data = meanStandards)\n",
            "\n",
            "Residuals:\n",
            "     Min       1Q   Median       3Q      Max \n",
            "-0.13991 -0.08883 -0.03989  0.08326  0.20256 \n",
            "\n",
            "Coefficients:\n",
            "            Estimate Std. Error t value Pr(>|t|)    \n",
            "(Intercept) 0.147970   0.059199    2.50   0.0466 *  \n",
            "Conc        0.001833   0.000145   12.64  1.5e-05 ***\n",
            "---\n",
            "Signif. codes:  0 ‘***’ 0.001 ‘**’ 0.01 ‘*’ 0.05 ‘.’ 0.1 ‘ ’ 1\n",
            "\n",
            "Residual standard error: 0.133 on 6 degrees of freedom\n",
            "Multiple R-squared:  0.9638,\tAdjusted R-squared:  0.9578 \n",
            "F-statistic: 159.8 on 1 and 6 DF,  p-value: 1.502e-05\n",
            "\n"
          ]
        }
      ]
    },
    {
      "cell_type": "code",
      "source": [
        "%%R\n",
        "library(cowplot)\n",
        "\n",
        "#Load cowplot"
      ],
      "metadata": {
        "id": "3jCWg-O3oL2l",
        "outputId": "94005e21-7533-43e8-dd15-3233ca93b241",
        "colab": {
          "base_uri": "https://localhost:8080/",
          "height": 138
        }
      },
      "execution_count": null,
      "outputs": [
        {
          "output_type": "display_data",
          "data": {
            "text/plain": [
              "\n",
              "Attaching package: ‘cowplot’\n",
              "\n",
              "The following object is masked from ‘package:lubridate’:\n",
              "\n",
              "    stamp\n",
              "\n"
            ]
          },
          "metadata": {}
        }
      ]
    },
    {
      "cell_type": "code",
      "source": [
        "%%R\n",
        "curve<-meanStandards%>%ggplot(aes(Conc,meanAbs))+geom_point()+geom_smooth(method=\"lm\")+theme_cowplot(font_size=20, line_size = 1)+xlab(c(\"TNF pg/mL\"))\n",
        "curve\n",
        "\n",
        "#Curve for the average data"
      ],
      "metadata": {
        "colab": {
          "base_uri": "https://localhost:8080/",
          "height": 514
        },
        "id": "NRVuDIgVXkBD",
        "outputId": "faa3034e-b780-40ca-af95-07c14917b185"
      },
      "execution_count": null,
      "outputs": [
        {
          "output_type": "stream",
          "name": "stdout",
          "text": [
            "`geom_smooth()` using formula = 'y ~ x'\n"
          ]
        },
        {
          "output_type": "display_data",
          "data": {
            "image/png": "[encoded data removed]",
            "text/plain": [
              "<IPython.core.display.Image object>"
            ]
          },
          "metadata": {}
        }
      ]
    },
    {
      "cell_type": "markdown",
      "source": [
        "#Creating metadata from the plate plan"
      ],
      "metadata": {
        "id": "WtE5MfTDkGDC"
      }
    },
    {
      "cell_type": "code",
      "source": [
        "%%R\n",
        "plate_plan_samples<-read_excel(\"TNF_ELISA.xlsx\", range = \"D12:I18\")\n",
        "\n",
        "#Using the same file, we have now imported the metadata for the plate, the sample information"
      ],
      "metadata": {
        "id": "k2FaQkIWpjlv"
      },
      "execution_count": null,
      "outputs": []
    },
    {
      "cell_type": "code",
      "source": [
        "%%R\n",
        "plate_plan_samples$Row<-c(\"A\",\"B\",\"C\",\"D\",\"E\",\"F\")\n",
        "\n",
        "#So we can keep track of everything, we have created a row identification, using A-F"
      ],
      "metadata": {
        "id": "-06zzvoppy9M"
      },
      "execution_count": null,
      "outputs": []
    },
    {
      "cell_type": "code",
      "source": [
        "%%R\n",
        "plate_plan_samples\n",
        "\n",
        "#View the plan"
      ],
      "metadata": {
        "colab": {
          "base_uri": "https://localhost:8080/"
        },
        "id": "KNFLOYoeup71",
        "outputId": "5fb7f63b-034e-4a63-b92a-f601ad616345"
      },
      "execution_count": null,
      "outputs": [
        {
          "output_type": "stream",
          "name": "stdout",
          "text": [
            "# A tibble: 6 × 7\n",
            "  Exp_1_r1 Exp_1_r2 Exp_2_r1 Exp_2_r2 Exp_3_r1 Exp_3_r2 Row  \n",
            "  <chr>    <chr>    <chr>    <chr>    <chr>    <chr>    <chr>\n",
            "1 24hr M0  24hr M0  24hr M0  24hr M0  24hr M0  24hr M0  A    \n",
            "2 24hr M2  24hr M2  24hr M2  24hr M2  24hr M2  24hr M2  B    \n",
            "3 24hr M1  24hr M1  24hr M1  24hr M1  24hr M1  24hr M1  C    \n",
            "4 48hr M0  48hr M0  48hr M0  48hr M0  48hr M0  48hr M0  D    \n",
            "5 48hr M2  48hr M2  48hr M2  48hr M2  48hr M2  48hr M2  E    \n",
            "6 48hr M1  48hr M1  48hr M1  48hr M1  48hr M1  48hr M1  F    \n"
          ]
        }
      ]
    },
    {
      "cell_type": "code",
      "source": [
        "%%R\n",
        "colnames(plate_plan_samples)\n",
        "\n",
        "#Column names\n"
      ],
      "metadata": {
        "colab": {
          "base_uri": "https://localhost:8080/"
        },
        "id": "zo5c1u0J-ZuE",
        "outputId": "c1dbabf3-8e81-49aa-ebfb-18ab4e2845dc"
      },
      "execution_count": null,
      "outputs": [
        {
          "output_type": "stream",
          "name": "stdout",
          "text": [
            "[1] \"Exp_1_r1\" \"Exp_1_r2\" \"Exp_2_r1\" \"Exp_2_r2\" \"Exp_3_r1\" \"Exp_3_r2\" \"Row\"     \n"
          ]
        }
      ]
    },
    {
      "cell_type": "code",
      "source": [
        "%%R\n",
        "samples<-pivot_longer(plate_plan_samples, starts_with(\"Exp\"), names_to = \"Replicate\", values_to = \"Condition\")\n",
        "\n",
        "#To turn our metadata into a easy format, we are going to collect each column and turn this in to a table of replicate and condtion"
      ],
      "metadata": {
        "id": "2NbhC8nFqDMv"
      },
      "execution_count": null,
      "outputs": []
    },
    {
      "cell_type": "code",
      "source": [
        "%%R\n",
        "samples\n",
        "\n",
        "#Print the samples"
      ],
      "metadata": {
        "colab": {
          "base_uri": "https://localhost:8080/"
        },
        "id": "XTLb599JqWba",
        "outputId": "7ad5d2e6-17e0-4f47-91ac-88b36afc68ed"
      },
      "execution_count": null,
      "outputs": [
        {
          "output_type": "stream",
          "name": "stdout",
          "text": [
            "# A tibble: 36 × 3\n",
            "   Row   Replicate Condition\n",
            "   <chr> <chr>     <chr>    \n",
            " 1 A     Exp_1_r1  24hr M0  \n",
            " 2 A     Exp_1_r2  24hr M0  \n",
            " 3 A     Exp_2_r1  24hr M0  \n",
            " 4 A     Exp_2_r2  24hr M0  \n",
            " 5 A     Exp_3_r1  24hr M0  \n",
            " 6 A     Exp_3_r2  24hr M0  \n",
            " 7 B     Exp_1_r1  24hr M2  \n",
            " 8 B     Exp_1_r2  24hr M2  \n",
            " 9 B     Exp_2_r1  24hr M2  \n",
            "10 B     Exp_2_r2  24hr M2  \n",
            "# ℹ 26 more rows\n",
            "# ℹ Use `print(n = ...)` to see more rows\n"
          ]
        }
      ]
    },
    {
      "cell_type": "code",
      "source": [
        "%%R\n",
        "sample_data<-read_excel(\"TNF_ELISA.xlsx\", range = \"D1:I7\")\n",
        "\n",
        "#Import the absorbance data"
      ],
      "metadata": {
        "id": "2D-4GBsvu6Uo"
      },
      "execution_count": null,
      "outputs": []
    },
    {
      "cell_type": "code",
      "source": [
        "%%R\n",
        "sample_data$Row<-c(\"A\",\"B\",\"C\",\"D\",\"E\",\"F\")\n",
        "\n",
        "#Set a column called Row, to match the ELISA plate"
      ],
      "metadata": {
        "id": "8Ewr_6O33gVJ"
      },
      "execution_count": null,
      "outputs": []
    },
    {
      "cell_type": "code",
      "source": [
        "%%R\n",
        "colnames(sample_data)<-colnames(plate_plan_samples)\n",
        "\n",
        "#set the column names to match between the data (samples) and the plate plan"
      ],
      "metadata": {
        "id": "eysaeeVx9i9V"
      },
      "execution_count": null,
      "outputs": []
    },
    {
      "cell_type": "code",
      "source": [
        "%%R\n",
        "sample_data\n",
        "\n",
        "#Check the format"
      ],
      "metadata": {
        "colab": {
          "base_uri": "https://localhost:8080/"
        },
        "id": "1IdFQuLP-l4K",
        "outputId": "bfc16691-2871-4555-def6-67f38f147ce1"
      },
      "execution_count": null,
      "outputs": [
        {
          "output_type": "stream",
          "name": "stdout",
          "text": [
            "# A tibble: 6 × 7\n",
            "  Exp_1_r1 Exp_1_r2 Exp_2_r1 Exp_2_r2 Exp_3_r1 Exp_3_r2 Row  \n",
            "     <dbl>    <dbl>    <dbl>    <dbl>    <dbl>    <dbl> <chr>\n",
            "1    0.054    0.052    0.061    0.059   0.0565   0.0543 A    \n",
            "2    0.053    0.055    0.07     0.061   0.0588   0.0585 B    \n",
            "3    1.83     1.84     1.98     1.98    1.91     1.90   C    \n",
            "4    0.074    0.075    0.065    0.063   0.65     0.067  D    \n",
            "5    0.069    0.071    0.063    0.062   0.65     0.066  E    \n",
            "6    1.39     1.39     1.57     1.56    1.49     1.49   F    \n"
          ]
        }
      ]
    },
    {
      "cell_type": "code",
      "source": [
        "%%R\n",
        "samples_dataL<-pivot_longer(sample_data, starts_with(\"Exp\"), names_to = \"Replicate\", values_to = \"Abs\")\n",
        "\n",
        "#The data is in a wide format, to convert to long, we will collect each column. We need to make sure that our row\n",
        "#value is correct, it is a good idea to double check at this point."
      ],
      "metadata": {
        "id": "45AXHJBo-DdN"
      },
      "execution_count": null,
      "outputs": []
    },
    {
      "cell_type": "code",
      "source": [
        "%%R\n",
        "samples_dataL\n",
        "\n",
        "#Print the new reshaped data"
      ],
      "metadata": {
        "colab": {
          "base_uri": "https://localhost:8080/"
        },
        "id": "v_-ZKTMr_ZaL",
        "outputId": "e8e9eeb2-530f-479e-aac7-3df34fc43ab9"
      },
      "execution_count": null,
      "outputs": [
        {
          "output_type": "stream",
          "name": "stdout",
          "text": [
            "# A tibble: 36 × 3\n",
            "   Row   Replicate    Abs\n",
            "   <chr> <chr>      <dbl>\n",
            " 1 A     Exp_1_r1  0.054 \n",
            " 2 A     Exp_1_r2  0.052 \n",
            " 3 A     Exp_2_r1  0.061 \n",
            " 4 A     Exp_2_r2  0.059 \n",
            " 5 A     Exp_3_r1  0.0565\n",
            " 6 A     Exp_3_r2  0.0543\n",
            " 7 B     Exp_1_r1  0.053 \n",
            " 8 B     Exp_1_r2  0.055 \n",
            " 9 B     Exp_2_r1  0.07  \n",
            "10 B     Exp_2_r2  0.061 \n",
            "# ℹ 26 more rows\n",
            "# ℹ Use `print(n = ...)` to see more rows\n"
          ]
        }
      ]
    },
    {
      "cell_type": "code",
      "source": [
        "%%R\n",
        "data<-samples%>%left_join(samples_dataL, by = c(\"Row\",\"Replicate\"))\n",
        "\n",
        "#Here we join this data with the metatda, using Row and Replicate to identify the data"
      ],
      "metadata": {
        "id": "3MdDsDRy_gll"
      },
      "execution_count": null,
      "outputs": []
    },
    {
      "cell_type": "code",
      "source": [
        "%%R\n",
        "data\n",
        "\n",
        "#Here is our final dataframe of metadata and absorbance values"
      ],
      "metadata": {
        "colab": {
          "base_uri": "https://localhost:8080/"
        },
        "id": "bKEQP4kX_r6M",
        "outputId": "f8c3f7df-3c74-4ad7-c6cc-4f36ae4a4137"
      },
      "execution_count": null,
      "outputs": [
        {
          "output_type": "stream",
          "name": "stdout",
          "text": [
            "# A tibble: 36 × 4\n",
            "   Row   Replicate Condition    Abs\n",
            "   <chr> <chr>     <chr>      <dbl>\n",
            " 1 A     Exp_1_r1  24hr M0   0.054 \n",
            " 2 A     Exp_1_r2  24hr M0   0.052 \n",
            " 3 A     Exp_2_r1  24hr M0   0.061 \n",
            " 4 A     Exp_2_r2  24hr M0   0.059 \n",
            " 5 A     Exp_3_r1  24hr M0   0.0565\n",
            " 6 A     Exp_3_r2  24hr M0   0.0543\n",
            " 7 B     Exp_1_r1  24hr M2   0.053 \n",
            " 8 B     Exp_1_r2  24hr M2   0.055 \n",
            " 9 B     Exp_2_r1  24hr M2   0.07  \n",
            "10 B     Exp_2_r2  24hr M2   0.061 \n",
            "# ℹ 26 more rows\n",
            "# ℹ Use `print(n = ...)` to see more rows\n"
          ]
        }
      ]
    },
    {
      "cell_type": "markdown",
      "source": [
        "#Calculating the unknowns"
      ],
      "metadata": {
        "id": "fXW3L36nkjTP"
      }
    },
    {
      "cell_type": "code",
      "source": [
        "%%R\n",
        "data<-data%>%mutate(Concentration=(Abs-0.147970 )/0.001833)\n",
        "\n",
        "#Assuming our data is linear, convert the Abs values to concentration\n",
        "\n"
      ],
      "metadata": {
        "id": "XGxIJRQQ_vXt"
      },
      "execution_count": null,
      "outputs": []
    },
    {
      "cell_type": "code",
      "source": [
        "%%R\n",
        "data\n",
        "\n",
        "#We have column called conditon that we would need to split into time and cell type"
      ],
      "metadata": {
        "colab": {
          "base_uri": "https://localhost:8080/"
        },
        "id": "pvGSZKgLew64",
        "outputId": "a32d48e5-cdd6-4682-8691-a9c8caba51e4"
      },
      "execution_count": null,
      "outputs": [
        {
          "output_type": "stream",
          "name": "stdout",
          "text": [
            "# A tibble: 36 × 5\n",
            "   Row   Replicate Condition    Abs Concentration\n",
            "   <chr> <chr>     <chr>      <dbl>         <dbl>\n",
            " 1 A     Exp_1_r1  24hr M0   0.054          -51.3\n",
            " 2 A     Exp_1_r2  24hr M0   0.052          -52.4\n",
            " 3 A     Exp_2_r1  24hr M0   0.061          -47.4\n",
            " 4 A     Exp_2_r2  24hr M0   0.059          -48.5\n",
            " 5 A     Exp_3_r1  24hr M0   0.0565         -49.9\n",
            " 6 A     Exp_3_r2  24hr M0   0.0543         -51.1\n",
            " 7 B     Exp_1_r1  24hr M2   0.053          -51.8\n",
            " 8 B     Exp_1_r2  24hr M2   0.055          -50.7\n",
            " 9 B     Exp_2_r1  24hr M2   0.07           -42.5\n",
            "10 B     Exp_2_r2  24hr M2   0.061          -47.4\n",
            "# ℹ 26 more rows\n",
            "# ℹ Use `print(n = ...)` to see more rows\n"
          ]
        }
      ]
    },
    {
      "cell_type": "code",
      "source": [
        "%%R\n",
        "data<-data%>%separate(Condition, into = c(\"Time\", \"Cell\"), sep = \" \")\n",
        "data\n",
        "\n",
        "#Seperate takes condition and splits this into two columns Time and Cell in the condition cell\n",
        "#the values are seperated by a space, the argument sep=\" \" defines a space."
      ],
      "metadata": {
        "colab": {
          "base_uri": "https://localhost:8080/"
        },
        "id": "RYTPwmw1Amca",
        "outputId": "b6f942c0-d95e-41ca-9cf0-dea59d53eb51"
      },
      "execution_count": null,
      "outputs": [
        {
          "output_type": "stream",
          "name": "stdout",
          "text": [
            "# A tibble: 36 × 6\n",
            "   Row   Replicate Time  Cell     Abs Concentration\n",
            "   <chr> <chr>     <chr> <chr>  <dbl>         <dbl>\n",
            " 1 A     Exp_1_r1  24hr  M0    0.054          -51.3\n",
            " 2 A     Exp_1_r2  24hr  M0    0.052          -52.4\n",
            " 3 A     Exp_2_r1  24hr  M0    0.061          -47.4\n",
            " 4 A     Exp_2_r2  24hr  M0    0.059          -48.5\n",
            " 5 A     Exp_3_r1  24hr  M0    0.0565         -49.9\n",
            " 6 A     Exp_3_r2  24hr  M0    0.0543         -51.1\n",
            " 7 B     Exp_1_r1  24hr  M2    0.053          -51.8\n",
            " 8 B     Exp_1_r2  24hr  M2    0.055          -50.7\n",
            " 9 B     Exp_2_r1  24hr  M2    0.07           -42.5\n",
            "10 B     Exp_2_r2  24hr  M2    0.061          -47.4\n",
            "# ℹ 26 more rows\n",
            "# ℹ Use `print(n = ...)` to see more rows\n"
          ]
        }
      ]
    },
    {
      "cell_type": "code",
      "source": [
        "%%R\n",
        "data <- data %>%\n",
        "  mutate(final_conc = pmax(Concentration, 0))\n",
        "\n",
        "#We need to remove the minus values, using mutate, we can replace them with a zero or any value."
      ],
      "metadata": {
        "id": "fHXjUdBZ4-mD"
      },
      "execution_count": null,
      "outputs": []
    },
    {
      "cell_type": "code",
      "source": [
        "%%R\n",
        "data"
      ],
      "metadata": {
        "colab": {
          "base_uri": "https://localhost:8080/"
        },
        "id": "BMY_TtQr6KWP",
        "outputId": "feba042c-4af6-4e01-94d7-bd23c5024432"
      },
      "execution_count": null,
      "outputs": [
        {
          "output_type": "stream",
          "name": "stdout",
          "text": [
            "# A tibble: 36 × 7\n",
            "   Row   Replicate Time  Cell     Abs Concentration final_conc\n",
            "   <chr> <chr>     <chr> <chr>  <dbl>         <dbl>      <dbl>\n",
            " 1 A     Exp_1_r1  24hr  M0    0.054          -51.3          0\n",
            " 2 A     Exp_1_r2  24hr  M0    0.052          -52.4          0\n",
            " 3 A     Exp_2_r1  24hr  M0    0.061          -47.4          0\n",
            " 4 A     Exp_2_r2  24hr  M0    0.059          -48.5          0\n",
            " 5 A     Exp_3_r1  24hr  M0    0.0565         -49.9          0\n",
            " 6 A     Exp_3_r2  24hr  M0    0.0543         -51.1          0\n",
            " 7 B     Exp_1_r1  24hr  M2    0.053          -51.8          0\n",
            " 8 B     Exp_1_r2  24hr  M2    0.055          -50.7          0\n",
            " 9 B     Exp_2_r1  24hr  M2    0.07           -42.5          0\n",
            "10 B     Exp_2_r2  24hr  M2    0.061          -47.4          0\n",
            "# ℹ 26 more rows\n",
            "# ℹ Use `print(n = ...)` to see more rows\n"
          ]
        }
      ]
    },
    {
      "cell_type": "markdown",
      "source": [
        "# Plotting the results"
      ],
      "metadata": {
        "id": "2bw0mX6sufws"
      }
    },
    {
      "cell_type": "code",
      "execution_count": null,
      "metadata": {
        "colab": {
          "base_uri": "https://localhost:8080/"
        },
        "id": "xz2As6ny1Dpi",
        "outputId": "2f3b7ef7-ce9c-4128-a30f-f63f8517e762"
      },
      "outputs": [
        {
          "output_type": "stream",
          "name": "stdout",
          "text": [
            "`summarise()` has grouped output by 'Time'. You can override using the\n",
            "`.groups` argument.\n",
            "# A tibble: 6 × 4\n",
            "# Groups:   Time [2]\n",
            "  Time  Cell  meanTNF sdTNF\n",
            "  <chr> <chr>   <dbl> <dbl>\n",
            "1 24hr  M0        0     0  \n",
            "2 24hr  M1      960.   34.9\n",
            "3 24hr  M2        0     0  \n",
            "4 48hr  M0       45.6 112. \n",
            "5 48hr  M1      727.   42.4\n",
            "6 48hr  M2       45.6 112. \n"
          ]
        }
      ],
      "source": [
        "%%R\n",
        "sumdata<-data%>%group_by(Time ,Cell)%>%summarise(meanTNF=mean(final_conc), sdTNF=sd(final_conc))\n",
        "sumdata\n",
        "\n",
        "#Make a summary of the data"
      ]
    },
    {
      "cell_type": "code",
      "source": [
        "%%R\n",
        "p<-ggplot(sumdata, aes(Cell, meanTNF, fill=Time))+geom_bar(stat=\"identity\", position = position_dodge(),colour=\"black\")+\n",
        "geom_errorbar(aes(ymin = meanTNF, ymax = meanTNF+sdTNF),position=position_dodge(.9), width=0.6)+\n",
        "scale_y_continuous(limits = c(0, 1000), expand = c(0, 0))+\n",
        "scale_fill_manual(values=c('#66b3ff','#cce6ff'))+theme_cowplot(font_size = 20)+\n",
        "ylab(\"mean TNF ng/mL\")\n",
        "p"
      ],
      "metadata": {
        "colab": {
          "base_uri": "https://localhost:8080/",
          "height": 497
        },
        "id": "6EyHgJHP6ws2",
        "outputId": "8bf4d6bf-f361-41b3-9f62-3c82b46b2f2f"
      },
      "execution_count": null,
      "outputs": [
        {
          "output_type": "display_data",
          "data": {
            "image/png": "[encoded data removed]",
            "text/plain": [
              "<IPython.core.display.Image object>"
            ]
          },
          "metadata": {}
        }
      ]
    },
    {
      "cell_type": "code",
      "source": [
        "%%R\n",
        "filtered_data<-data%>%filter(Cell==\"M1\")\n",
        "\n",
        "#Filter one cell type M1"
      ],
      "metadata": {
        "id": "B9xZaPMO8gZq"
      },
      "execution_count": null,
      "outputs": []
    },
    {
      "cell_type": "code",
      "source": [
        "%%R\n",
        "filtered_data$Time<-factor(filtered_data$Time)\n",
        "\n",
        "#Turn time into a factor"
      ],
      "metadata": {
        "id": "tXUM9Xh3aa5F"
      },
      "execution_count": null,
      "outputs": []
    },
    {
      "cell_type": "code",
      "source": [
        "%%R\n",
        "t.test(final_conc~Time, data=filtered_data)"
      ],
      "metadata": {
        "colab": {
          "base_uri": "https://localhost:8080/"
        },
        "id": "9VB_l-my8n4A",
        "outputId": "a6a39f67-c896-4775-84b8-f6b7f73a702b"
      },
      "execution_count": null,
      "outputs": [
        {
          "output_type": "stream",
          "name": "stdout",
          "text": [
            "\n",
            "\tWelch Two Sample t-test\n",
            "\n",
            "data:  final_conc by Time\n",
            "t = 10.393, df = 9.6413, p-value = 1.501e-06\n",
            "alternative hypothesis: true difference in means between group 24hr and group 48hr is not equal to 0\n",
            "95 percent confidence interval:\n",
            " 182.6843 283.0368\n",
            "sample estimates:\n",
            "mean in group 24hr mean in group 48hr \n",
            "          959.7363           726.8758 \n",
            "\n"
          ]
        }
      ]
    },
    {
      "cell_type": "code",
      "source": [
        "%%R\n",
        "filtered_data"
      ],
      "metadata": {
        "colab": {
          "base_uri": "https://localhost:8080/"
        },
        "id": "2p-q3OLXZixE",
        "outputId": "c86c9569-fc3a-4d1c-bee3-e036cbc82bcc"
      },
      "execution_count": null,
      "outputs": [
        {
          "output_type": "stream",
          "name": "stdout",
          "text": [
            "# A tibble: 12 × 7\n",
            "   Row   Replicate Time  Cell    Abs Concentration final_conc\n",
            "   <chr> <chr>     <fct> <chr> <dbl>         <dbl>      <dbl>\n",
            " 1 C     Exp_1_r1  24hr  M1     1.83          918.       918.\n",
            " 2 C     Exp_1_r2  24hr  M1     1.84          924.       924.\n",
            " 3 C     Exp_2_r1  24hr  M1     1.98          997.       997.\n",
            " 4 C     Exp_2_r2  24hr  M1     1.98         1001.      1001.\n",
            " 5 C     Exp_3_r1  24hr  M1     1.91          961.       961.\n",
            " 6 C     Exp_3_r2  24hr  M1     1.90          957.       957.\n",
            " 7 F     Exp_1_r1  48hr  M1     1.39          679.       679.\n",
            " 8 F     Exp_1_r2  48hr  M1     1.39          677.       677.\n",
            " 9 F     Exp_2_r1  48hr  M1     1.57          776.       776.\n",
            "10 F     Exp_2_r2  48hr  M1     1.56          768.       768.\n",
            "11 F     Exp_3_r1  48hr  M1     1.49          730.       730.\n",
            "12 F     Exp_3_r2  48hr  M1     1.49          731.       731.\n"
          ]
        }
      ]
    },
    {
      "cell_type": "markdown",
      "source": [
        "#One-way ANOVA with post hoc test"
      ],
      "metadata": {
        "id": "_-oEvCKvVZwZ"
      }
    },
    {
      "cell_type": "code",
      "source": [
        "%%R\n",
        "filtered_data<-filter(data, Time ==\"48hr\")\n",
        "\n",
        "#Filter one time point"
      ],
      "metadata": {
        "id": "UaScslaJ3alx"
      },
      "execution_count": null,
      "outputs": []
    },
    {
      "cell_type": "code",
      "source": [
        "%%R\n",
        "library(broom)"
      ],
      "metadata": {
        "id": "mjxLWH0wr-6O"
      },
      "execution_count": null,
      "outputs": []
    },
    {
      "cell_type": "code",
      "source": [
        "%%R\n",
        "data.aov <- aov(final_conc~ Cell, data = data)\n",
        "# Summary of the analysis\n",
        "tidy(data.aov)\n",
        "\n",
        "#One-way analysis, we have 3 cell types, here we are analysing the effect of Cell on TNF levels"
      ],
      "metadata": {
        "colab": {
          "base_uri": "https://localhost:8080/"
        },
        "id": "13k3RVbFUB4q",
        "outputId": "54b5cc68-ccaf-46d9-b1ca-828631e40f5f"
      },
      "execution_count": null,
      "outputs": [
        {
          "output_type": "stream",
          "name": "stdout",
          "text": [
            "# A tibble: 2 × 6\n",
            "  term         df    sumsq   meansq statistic   p.value\n",
            "  <chr>     <dbl>    <dbl>    <dbl>     <dbl>     <dbl>\n",
            "1 Cell          2 5385530. 2692765.      282.  1.80e-21\n",
            "2 Residuals    33  315256.    9553.       NA  NA       \n"
          ]
        }
      ]
    },
    {
      "cell_type": "code",
      "source": [
        "%%R\n",
        "pht<-data.frame(tidy(TukeyHSD(data.aov, which = \"Cell\")))\n",
        "pht\n",
        "\n",
        "#The aov results above show that there is a significant effect of cell on TNF.\n",
        "#Where is the difference? To determine the effect, we run a post hoc test to determine\n",
        "#where the difference is, here we are using TukeyHSD, the results can also be stored in a file."
      ],
      "metadata": {
        "id": "RfAVOxVBsblE",
        "colab": {
          "base_uri": "https://localhost:8080/"
        },
        "outputId": "87a92f26-a836-4ef4-bc3d-555642355f25"
      },
      "execution_count": null,
      "outputs": [
        {
          "output_type": "stream",
          "name": "stdout",
          "text": [
            "  term contrast null.value      estimate   conf.low  conf.high  adj.p.value\n",
            "1 Cell    M1-M0          0  8.204824e+02  722.57007  918.39465 5.861978e-14\n",
            "2 Cell    M2-M0          0  3.552714e-15  -97.91229   97.91229 1.000000e+00\n",
            "3 Cell    M2-M1          0 -8.204824e+02 -918.39465 -722.57007 5.861978e-14\n"
          ]
        }
      ]
    },
    {
      "cell_type": "markdown",
      "source": [
        "#Two-way ANOVA"
      ],
      "metadata": {
        "id": "EgpGtzYhuro1"
      }
    },
    {
      "cell_type": "code",
      "source": [
        "%%R\n",
        "data.aov2 <- aov(final_conc ~ Cell + Time, data = data)\n",
        "tidy(data.aov2)\n",
        "\n",
        "#For a two way ANOVA, we are looking at two factors, Time and Cell. In the model above\n",
        "#we are looking at an additive model Cell+Time"
      ],
      "metadata": {
        "colab": {
          "base_uri": "https://localhost:8080/"
        },
        "id": "rXX6ruhlU-2z",
        "outputId": "abf56150-544e-4b60-95cf-e149724366f9"
      },
      "execution_count": null,
      "outputs": [
        {
          "output_type": "stream",
          "name": "stdout",
          "text": [
            "# A tibble: 3 × 6\n",
            "  term         df    sumsq   meansq statistic   p.value\n",
            "  <chr>     <dbl>    <dbl>    <dbl>     <dbl>     <dbl>\n",
            "1 Cell          2 5385530. 2692765.    292.    2.83e-21\n",
            "2 Time          1   20041.   20041.      2.17  1.50e- 1\n",
            "3 Residuals    32  295215.    9225.     NA    NA       \n"
          ]
        }
      ]
    },
    {
      "cell_type": "code",
      "source": [
        "%%R\n",
        "data.aov2 <- aov(final_conc ~ Cell * Time, data = data)\n",
        "tidy(data.aov2)\n",
        "\n",
        "#In this model we are looking for an interaction between Cell and Time , does the effect of Cell on final_conc depends on Time"
      ],
      "metadata": {
        "id": "SJ_5iRvpVQMs",
        "outputId": "b3711d59-611d-4171-857f-0e667577f0b5",
        "colab": {
          "base_uri": "https://localhost:8080/"
        }
      },
      "execution_count": null,
      "outputs": [
        {
          "output_type": "stream",
          "name": "stdout",
          "text": [
            "# A tibble: 4 × 6\n",
            "  term         df    sumsq   meansq statistic   p.value\n",
            "  <chr>     <dbl>    <dbl>    <dbl>     <dbl>     <dbl>\n",
            "1 Cell          2 5385530. 2692765.    577.    1.15e-24\n",
            "2 Time          1   20041.   20041.      4.29  4.70e- 2\n",
            "3 Cell:Time     2  155133.   77567.     16.6   1.39e- 5\n",
            "4 Residuals    30  140082.    4669.     NA    NA       \n"
          ]
        }
      ]
    },
    {
      "cell_type": "code",
      "source": [
        "%%R\n",
        "install.packages(\"dr4pl\")\n",
        "#More complex cure analysis, there are many ways to analyse a ELISA standard curve, sometimes a four parameter\n",
        "#curve will give more accurate results."
      ],
      "metadata": {
        "id": "p-9kBnc5mxyI"
      },
      "execution_count": null,
      "outputs": []
    },
    {
      "cell_type": "code",
      "source": [
        "%%R\n",
        "library(dr4pl)"
      ],
      "metadata": {
        "id": "UQonUxKz_Ayq"
      },
      "execution_count": null,
      "outputs": []
    },
    {
      "cell_type": "code",
      "source": [
        "%%R\n",
        "dr4pl.logistic.5 <- dr4pl(meanAbs~Conc, data = meanStandards, method.init = \"logistic\")\n",
        "plot(dr4pl.logistic.5, text.title = \"Fit with the logistic method\")"
      ],
      "metadata": {
        "id": "QbrpgoRbkEN3"
      },
      "execution_count": null,
      "outputs": []
    }
  ]
}