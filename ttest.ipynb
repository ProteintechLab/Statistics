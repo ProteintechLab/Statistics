{
  "nbformat": 4,
  "nbformat_minor": 0,
  "metadata": {
    "colab": {
      "provenance": [],
      "include_colab_link": true
    },
    "kernelspec": {
      "name": "python3",
      "display_name": "Python 3"
    },
    "language_info": {
      "name": "python"
    }
  },
  "cells": [
    {
      "cell_type": "markdown",
      "metadata": {
        "id": "view-in-github",
        "colab_type": "text"
      },
      "source": [
        "<a href=\"https://colab.research.google.com/github/ProteintechLab/Statistics/blob/main/ttest.ipynb\" target=\"_parent\"><img src=\"https://colab.research.google.com/assets/colab-badge.svg\" alt=\"Open In Colab\"/></a>"
      ]
    },
    {
      "cell_type": "code",
      "source": [
        "%load_ext rpy2.ipython"
      ],
      "metadata": {
        "id": "MiIp4bafVtN0"
      },
      "execution_count": null,
      "outputs": []
    },
    {
      "cell_type": "code",
      "source": [
        "%%R\n",
        "library(tidyverse)\n",
        "library(readxl)\n",
        "library(broom)"
      ],
      "metadata": {
        "id": "TEoby6SMWRFv"
      },
      "execution_count": null,
      "outputs": []
    },
    {
      "cell_type": "markdown",
      "source": [
        "#load the data"
      ],
      "metadata": {
        "id": "9zOy-2YqV32p"
      }
    },
    {
      "cell_type": "code",
      "source": [
        "%%R\n",
        "download.file(\"https://raw.githubusercontent.com/toryn13//Rexamples/main/IL6.xlsx\", \"IL6.xlsx\")"
      ],
      "metadata": {
        "id": "YWTwZa9AWklH"
      },
      "execution_count": null,
      "outputs": []
    },
    {
      "cell_type": "code",
      "execution_count": null,
      "metadata": {
        "id": "kav9D09tUJV-"
      },
      "outputs": [],
      "source": [
        "%%R\n",
        "IL6<-read_excel(\"IL6.xlsx\")\n",
        "IL6$Conc<-(IL6$Conc)/1000"
      ]
    },
    {
      "cell_type": "code",
      "source": [
        "tibble [15 × 3] (S3: tbl_df/tbl/data.frame)\n",
        " $ Treat: chr [1:15] \"Control\" \"Control\" \"Control\" \"PHA\" ...\n",
        " $ Conc : num [1:15] 0.111 0.111 0.107 18.534 19.611 ...\n",
        " $ Day  : num [1:15] 1 1 1 1 1 1 1 1 3 3 ..."
      ],
      "metadata": {
        "id": "ocYZVXdJzay_"
      },
      "execution_count": null,
      "outputs": []
    },
    {
      "cell_type": "code",
      "source": [
        "%%R\n",
        "str(IL6)"
      ],
      "metadata": {
        "colab": {
          "base_uri": "https://localhost:8080/"
        },
        "id": "Kbajd73GzXaj",
        "outputId": "d4e90787-2005-4b5d-8d5f-1404588a7219"
      },
      "execution_count": null,
      "outputs": [
        {
          "output_type": "stream",
          "name": "stdout",
          "text": [
            "tibble [15 × 3] (S3: tbl_df/tbl/data.frame)\n",
            " $ Treat: chr [1:15] \"Control\" \"Control\" \"Control\" \"PHA\" ...\n",
            " $ Conc : num [1:15] 0.111 0.111 0.107 18.534 19.611 ...\n",
            " $ Day  : num [1:15] 1 1 1 1 1 1 1 1 3 3 ...\n"
          ]
        }
      ]
    },
    {
      "cell_type": "code",
      "source": [
        "%%R\n",
        "IL6$Day<-factor(IL6$Day)"
      ],
      "metadata": {
        "id": "wn0NyOLvUdDx"
      },
      "execution_count": null,
      "outputs": []
    },
    {
      "cell_type": "code",
      "source": [
        "tibble [15 × 4] (S3: tbl_df/tbl/data.frame)\n",
        " $ Treat: chr [1:15] \"Control\" \"Control\" \"Control\" \"PHA\" ...\n",
        " $ Conc : num [1:15] 0.111 0.111 0.107 18.534 19.611 ...\n",
        " $ Day  : Factor w/ 2 levels \"1\",\"3\": 1 1 1 1 1 1 1 1 2 2 ...\n",
        " $ group: Factor w/ 4 levels \"Control_1\",\"Control_3\",..: 1 1 1 3 3 3 3 3 2 2 ..."
      ],
      "metadata": {
        "id": "fw79awGes1op"
      },
      "execution_count": null,
      "outputs": []
    },
    {
      "cell_type": "code",
      "source": [
        "%%R\n",
        "IL6$group<-factor(paste0(IL6$Treat,\"_\",IL6$Day))\n",
        "str(IL6)"
      ],
      "metadata": {
        "colab": {
          "base_uri": "https://localhost:8080/"
        },
        "id": "T61MPBz1Ubxw",
        "outputId": "e8c66786-f46b-4482-c6cf-68e6bda5b49b"
      },
      "execution_count": null,
      "outputs": [
        {
          "output_type": "stream",
          "name": "stdout",
          "text": [
            "tibble [15 × 4] (S3: tbl_df/tbl/data.frame)\n",
            " $ Treat: chr [1:15] \"Control\" \"Control\" \"Control\" \"PHA\" ...\n",
            " $ Conc : num [1:15] 0.111 0.111 0.107 18.534 19.611 ...\n",
            " $ Day  : num [1:15] 1 1 1 1 1 1 1 1 3 3 ...\n",
            " $ group: Factor w/ 4 levels \"Control_1\",\"Control_3\",..: 1 1 1 3 3 3 3 3 2 2 ...\n"
          ]
        }
      ]
    },
    {
      "cell_type": "code",
      "source": [
        "%%R\n",
        "IL6$group"
      ],
      "metadata": {
        "colab": {
          "base_uri": "https://localhost:8080/"
        },
        "id": "5lhDF80PtFjc",
        "outputId": "27e320bf-2eea-41b1-dd4e-23082c32943e"
      },
      "execution_count": null,
      "outputs": [
        {
          "output_type": "stream",
          "name": "stdout",
          "text": [
            " [1] Control_1 Control_1 Control_1 PHA_1     PHA_1     PHA_1     PHA_1    \n",
            " [8] PHA_1     Control_3 Control_3 Control_3 PHA_3     PHA_3     PHA_3    \n",
            "[15] PHA_3    \n",
            "Levels: Control_1 Control_3 PHA_1 PHA_3\n"
          ]
        }
      ]
    },
    {
      "cell_type": "code",
      "source": [
        "%%R\n",
        "IL6_day3<-IL6%>%filter(Day==\"3\")"
      ],
      "metadata": {
        "id": "REDlSgddZS76"
      },
      "execution_count": null,
      "outputs": []
    },
    {
      "cell_type": "code",
      "source": [
        "%%R\n",
        "dim(IL6_day3)"
      ],
      "metadata": {
        "colab": {
          "base_uri": "https://localhost:8080/"
        },
        "id": "Se6gcIzIGBjp",
        "outputId": "c75004b2-5b1f-4ea3-e213-a9c364025db7"
      },
      "execution_count": null,
      "outputs": [
        {
          "output_type": "stream",
          "name": "stdout",
          "text": [
            "[1] 7 4\n"
          ]
        }
      ]
    },
    {
      "cell_type": "code",
      "source": [
        "%%R\n",
        "IL6_day3"
      ],
      "metadata": {
        "colab": {
          "base_uri": "https://localhost:8080/"
        },
        "id": "5o9kF7gqaLNV",
        "outputId": "1e682a88-3768-4998-9ff6-a2c3e572198e"
      },
      "execution_count": null,
      "outputs": [
        {
          "output_type": "stream",
          "name": "stdout",
          "text": [
            "# A tibble: 7 × 3\n",
            "  Treat      Conc   Day\n",
            "  <chr>     <dbl> <dbl>\n",
            "1 Control  0.0877     3\n",
            "2 Control  0.100      3\n",
            "3 Control  0.0942     3\n",
            "4 PHA     33.3        3\n",
            "5 PHA     39.7        3\n",
            "6 PHA     39.9        3\n",
            "7 PHA     41.4        3\n"
          ]
        }
      ]
    },
    {
      "cell_type": "code",
      "source": [
        "%%R\n",
        "t_test(Conc~group, data=IL6_day3, var.equal = FALSE)"
      ],
      "metadata": {
        "id": "6eVlxPfnXZBz"
      },
      "execution_count": null,
      "outputs": []
    },
    {
      "cell_type": "code",
      "source": [
        "\tTwo Sample t-test\n",
        "\n",
        "data:  Conc by Treat\n",
        "t = -6.641, df = 13, p-value = 1.61e-05\n",
        "alternative hypothesis: true difference in means between group Control and group PHA is not equal to 0\n",
        "95 percent confidence interval:\n",
        " -37.14077 -18.90766\n",
        "sample estimates:\n",
        "mean in group Control     mean in group PHA\n",
        "            0.1018694            28.1260859"
      ],
      "metadata": {
        "id": "-aCkFtevFPAj"
      },
      "execution_count": null,
      "outputs": []
    },
    {
      "cell_type": "code",
      "source": [
        "%%R\n",
        "t.test(Conc~Treat, data=IL6, paired = FALSE, var.equal = TRUE)"
      ],
      "metadata": {
        "id": "lKE_gEQ9YEmM"
      },
      "execution_count": null,
      "outputs": []
    },
    {
      "cell_type": "code",
      "source": [
        "#t.test(pre~post, data=IL6, paired = TRUE, var.equal = FALSE)"
      ],
      "metadata": {
        "id": "2t93BQ28Xrbw"
      },
      "execution_count": null,
      "outputs": []
    }
  ]
}