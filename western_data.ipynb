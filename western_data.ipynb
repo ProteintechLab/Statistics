{
  "nbformat": 4,
  "nbformat_minor": 0,
  "metadata": {
    "colab": {
      "provenance": [],
      "include_colab_link": true
    },
    "kernelspec": {
      "name": "python3",
      "display_name": "Python 3"
    },
    "language_info": {
      "name": "python"
    }
  },
  "cells": [
    {
      "cell_type": "markdown",
      "metadata": {
        "id": "view-in-github",
        "colab_type": "text"
      },
      "source": [
        "<a href=\"https://colab.research.google.com/github/ProteintechLab/Statistics/blob/main/western_data.ipynb\" target=\"_parent\"><img src=\"https://colab.research.google.com/assets/colab-badge.svg\" alt=\"Open In Colab\"/></a>"
      ]
    },
    {
      "cell_type": "code",
      "source": [
        "%load_ext rpy2.ipython"
      ],
      "metadata": {
        "id": "RQebXgCmgiau"
      },
      "execution_count": 1,
      "outputs": []
    },
    {
      "cell_type": "code",
      "source": [
        "%%R\n",
        "download.file(\"https://raw.githubusercontent.com/ProteintechLab/Statistics/main/blot_quant.csv\", \"blot_quant\")\n",
        "#Fetch the file from Github"
      ],
      "metadata": {
        "id": "q3cnovcuefo_"
      },
      "execution_count": null,
      "outputs": []
    },
    {
      "cell_type": "code",
      "source": [
        "%%R\n",
        "library(tidyverse)"
      ],
      "metadata": {
        "id": "m9wx9ENJJu4F"
      },
      "execution_count": null,
      "outputs": []
    },
    {
      "cell_type": "code",
      "source": [
        "%%R\n",
        "blot_quant<-read_csv(\"/content/blot_quant\")\n",
        "blot_quant\n",
        "#Load the library and imort the file \"blot_quant\""
      ],
      "metadata": {
        "id": "GjOKJSV_efby",
        "colab": {
          "base_uri": "https://localhost:8080/"
        },
        "outputId": "58852ddd-d431-43eb-e516-0ebf86779739"
      },
      "execution_count": 15,
      "outputs": [
        {
          "output_type": "stream",
          "name": "stdout",
          "text": [
            "Rows: 16 Columns: 4\n",
            "── Column specification ────────────────────────────────────────────────────────\n",
            "Delimiter: \",\"\n",
            "chr (1): Area\n",
            "dbl (3): Wavelength, Intensity, Group\n",
            "\n",
            "ℹ Use `spec()` to retrieve the full column specification for this data.\n",
            "ℹ Specify the column types or set `show_col_types = FALSE` to quiet this message.\n",
            "# A tibble: 16 × 4\n",
            "   Wavelength Area  Intensity Group\n",
            "        <dbl> <chr>     <dbl> <dbl>\n",
            " 1        800 Lane1     17900     1\n",
            " 2        800 Lane2     16500     1\n",
            " 3        800 Lane3     17900     1\n",
            " 4        800 Lane4     16500     1\n",
            " 5        800 Lane5     10800     2\n",
            " 6        800 Lane6      7060     2\n",
            " 7        800 Lane7      8020     2\n",
            " 8        800 Lane8      6590     2\n",
            " 9        700 Lane1     38900     1\n",
            "10        700 Lane2     33700     1\n",
            "11        700 Lane3     29000     1\n",
            "12        700 Lane4     24600     1\n",
            "13        700 Lane5     32300     2\n",
            "14        700 Lane6     27800     2\n",
            "15        700 Lane7     30600     2\n",
            "16        700 Lane8     34200     2\n"
          ]
        }
      ]
    },
    {
      "cell_type": "code",
      "source": [
        "%%R\n",
        "blot_quant<-blot_quant%>%pivot_wider(names_from = Wavelength , values_from = Intensity )\n",
        "\n",
        "#The data is in the wide format, in this example we are reshaping the data to the long format, using pivot_wider"
      ],
      "metadata": {
        "id": "h90qUuaige2m"
      },
      "execution_count": 16,
      "outputs": []
    },
    {
      "cell_type": "code",
      "source": [
        "%%R\n",
        "blot_quant\n",
        "\n",
        "#Note the change of shape"
      ],
      "metadata": {
        "id": "tCyMuW53iLfX",
        "colab": {
          "base_uri": "https://localhost:8080/"
        },
        "outputId": "30737192-5d1b-4b74-adfc-7ad0e56f8140"
      },
      "execution_count": 17,
      "outputs": [
        {
          "output_type": "stream",
          "name": "stdout",
          "text": [
            "# A tibble: 8 × 4\n",
            "  Area  Group `800` `700`\n",
            "  <chr> <dbl> <dbl> <dbl>\n",
            "1 Lane1     1 17900 38900\n",
            "2 Lane2     1 16500 33700\n",
            "3 Lane3     1 17900 29000\n",
            "4 Lane4     1 16500 24600\n",
            "5 Lane5     2 10800 32300\n",
            "6 Lane6     2  7060 27800\n",
            "7 Lane7     2  8020 30600\n",
            "8 Lane8     2  6590 34200\n"
          ]
        }
      ]
    },
    {
      "cell_type": "code",
      "source": [
        "%%R\n",
        "colnames(blot_quant)<-c(\"Area\", \"Group\", \"W800\", \"W700\")\n",
        "\n",
        "#Here we have renamed the columns, with the function colnames()"
      ],
      "metadata": {
        "id": "1Sih7b0vicOC"
      },
      "execution_count": 18,
      "outputs": []
    },
    {
      "cell_type": "code",
      "source": [
        "%%R\n",
        "blot_quant<-blot_quant%>%mutate(norm_ratio=W800/W700)\n",
        "blot_quant\n",
        "\n",
        "#We are making a ratio of the two intensity readings, using mutate we have created a new column called norm_ratio"
      ],
      "metadata": {
        "id": "r0OM_WTUgtNL",
        "colab": {
          "base_uri": "https://localhost:8080/"
        },
        "outputId": "bd6feafd-4007-41b0-a6c9-86252f5d1fe2"
      },
      "execution_count": 19,
      "outputs": [
        {
          "output_type": "stream",
          "name": "stdout",
          "text": [
            "# A tibble: 8 × 5\n",
            "  Area  Group  W800  W700 norm_ratio\n",
            "  <chr> <dbl> <dbl> <dbl>      <dbl>\n",
            "1 Lane1     1 17900 38900      0.460\n",
            "2 Lane2     1 16500 33700      0.490\n",
            "3 Lane3     1 17900 29000      0.617\n",
            "4 Lane4     1 16500 24600      0.671\n",
            "5 Lane5     2 10800 32300      0.334\n",
            "6 Lane6     2  7060 27800      0.254\n",
            "7 Lane7     2  8020 30600      0.262\n",
            "8 Lane8     2  6590 34200      0.193\n"
          ]
        }
      ]
    },
    {
      "cell_type": "code",
      "source": [
        "%%R\n",
        "blotmean<-blot_quant%>%group_by(Group)%>%summarise(mean_ratio=mean(norm_ratio), sd_ratio=sd(norm_ratio))\n",
        "\n",
        "#Summary statistics for the new norm_ratio column"
      ],
      "metadata": {
        "id": "kaASRtfuiuf0"
      },
      "execution_count": 20,
      "outputs": []
    },
    {
      "cell_type": "code",
      "source": [
        "%%R\n",
        "blotmean\n",
        "\n",
        "#Print of the new data frame of mean and sd values"
      ],
      "metadata": {
        "id": "aebECd6bgePH",
        "colab": {
          "base_uri": "https://localhost:8080/"
        },
        "outputId": "b76f3c34-f11a-495b-ccd2-3900956ca8c7"
      },
      "execution_count": 21,
      "outputs": [
        {
          "output_type": "stream",
          "name": "stdout",
          "text": [
            "# A tibble: 2 × 3\n",
            "  Group mean_ratio sd_ratio\n",
            "  <dbl>      <dbl>    <dbl>\n",
            "1     1      0.559   0.101 \n",
            "2     2      0.261   0.0580\n"
          ]
        }
      ]
    },
    {
      "cell_type": "code",
      "source": [
        "%%R\n",
        "t.test(norm_ratio~Group, data=blot_quant)\n",
        "\n",
        "#Here we are performing a T-test"
      ],
      "metadata": {
        "id": "EBg03DVb2rBj",
        "colab": {
          "base_uri": "https://localhost:8080/"
        },
        "outputId": "8998ed78-02ef-482d-f9df-84f661f48b79"
      },
      "execution_count": 22,
      "outputs": [
        {
          "output_type": "stream",
          "name": "stdout",
          "text": [
            "\n",
            "\tWelch Two Sample t-test\n",
            "\n",
            "data:  norm_ratio by Group\n",
            "t = 5.1371, df = 4.7923, p-value = 0.004124\n",
            "alternative hypothesis: true difference in means between group 1 and group 2 is not equal to 0\n",
            "95 percent confidence interval:\n",
            " 0.1472434 0.4500755\n",
            "sample estimates:\n",
            "mean in group 1 mean in group 2 \n",
            "      0.5594354       0.2607759 \n",
            "\n"
          ]
        }
      ]
    },
    {
      "cell_type": "code",
      "source": [
        "%%R\n",
        "blotmean$Group<-factor(blotmean$Group, levels=c(\"1\", \"2\"))\n",
        "\n",
        "#Here Group as a numeric value to make this a category, we can turn it into a factor"
      ],
      "metadata": {
        "id": "S9NVfjSxg7nU"
      },
      "execution_count": 23,
      "outputs": []
    },
    {
      "cell_type": "code",
      "source": [
        "%%R\n",
        "library(forcats)\n",
        "\n",
        "blotmean$Group <- factor(blotmean$Group, levels = c(\"1\", \"2\")) # Optional: Sets the order\n",
        "\n",
        "blotmean <- blotmean %>%\n",
        "  mutate(Group = fct_recode(Group,\n",
        "                           \"Con\" = \"1\",  # New_name = Old_name\n",
        "                           \"Treat\" = \"2\")) # New_name = Old_name\n",
        "\n",
        "#We can also use the forcats package to rename 1 and 2 to something more meaingful"
      ],
      "metadata": {
        "id": "ywDvbRPBKQ3i"
      },
      "execution_count": 24,
      "outputs": []
    },
    {
      "cell_type": "code",
      "source": [
        "%%R\n",
        "p<-blotmean%>%ggplot(aes(Group, mean_ratio, fill=Group))+geom_bar(stat=\"identity\", position = position_dodge(),colour=\"black\")+\n",
        "geom_errorbar(aes(ymin = mean_ratio-sd_ratio, ymax = mean_ratio+sd_ratio),position=position_dodge(.9), width=0.6)+\n",
        "scale_y_continuous(limits = c(0, 1), expand = c(0, 0))+\n",
        "scale_fill_manual(values=c('#66b3ff','#cce6ff'))+theme_bw()\n",
        "ylab(\"Ratio\")\n",
        "p"
      ],
      "metadata": {
        "colab": {
          "base_uri": "https://localhost:8080/",
          "height": 497
        },
        "id": "EW34qzCdfZkY",
        "outputId": "9dad79dc-ce9e-42ba-b6c6-0c9fda43e556"
      },
      "execution_count": 25,
      "outputs": [
        {
          "output_type": "display_data",
          "data": {
            "image/png": "[encoded data removed]"
          },
          "metadata": {}
        }
      ]
    }
  ]
}