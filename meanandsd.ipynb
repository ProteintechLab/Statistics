{
  "nbformat": 4,
  "nbformat_minor": 0,
  "metadata": {
    "colab": {
      "provenance": [],
      "include_colab_link": true
    },
    "kernelspec": {
      "name": "python3",
      "display_name": "Python 3"
    },
    "language_info": {
      "name": "python"
    }
  },
  "cells": [
    {
      "cell_type": "markdown",
      "metadata": {
        "id": "view-in-github",
        "colab_type": "text"
      },
      "source": [
        "<a href=\"https://colab.research.google.com/github/ProteintechLab/Statistics/blob/main/meanandsd.ipynb\" target=\"_parent\"><img src=\"https://colab.research.google.com/assets/colab-badge.svg\" alt=\"Open In Colab\"/></a>"
      ]
    },
    {
      "cell_type": "code",
      "source": [
        "%load_ext rpy2.ipython\n",
        "\n",
        "# This line of code allows Colab to interpret R commands"
      ],
      "metadata": {
        "id": "jyDGzwG48b8b"
      },
      "execution_count": null,
      "outputs": []
    },
    {
      "cell_type": "code",
      "execution_count": null,
      "metadata": {
        "id": "V_v3qOwc8UGh"
      },
      "outputs": [],
      "source": [
        "%%R #This tells python that we are coding in R\n",
        "install.packages(\"readxl\")\n",
        "library(readxl)\n",
        "install.packages(\"tidyr\")\n",
        "library(tidyr)\n",
        "install.packages(\"dplyr\")\n",
        "library(dplyr)\n",
        "# These load in the tidyverse, dplyr and read excel packages"
      ]
    },
    {
      "cell_type": "code",
      "source": [
        "%%R\n",
        "download.file(\"https://github.com/ProteintechLab/Statistics/raw/main/IL6.xlsx\", \"IL6.xlsx\")\n",
        "\n",
        "# This downloads the IL6 data set from our github and stores it as IL6.xlsx"
      ],
      "metadata": {
        "id": "6kBxC49S8j6B"
      },
      "execution_count": null,
      "outputs": []
    },
    {
      "cell_type": "code",
      "source": [
        "%%R\n",
        "IL6<-read_excel(\"IL6.xlsx\")\n",
        "\n",
        "# This line reads the IL6 data in the excel sheet IL6.xlsx and stores it as the variable IL6"
      ],
      "metadata": {
        "id": "1ePLB9Fe8_sY"
      },
      "execution_count": null,
      "outputs": []
    },
    {
      "cell_type": "code",
      "source": [
        "%%R\n",
        "IL6\n",
        "\n",
        "# This prints the data stored in IL6"
      ],
      "metadata": {
        "id": "Knb5sWtJ9zVi"
      },
      "execution_count": null,
      "outputs": []
    },
    {
      "cell_type": "code",
      "source": [
        "%%R\n",
        "IL6$Conc<-(IL6$Conc)/1000\n",
        "IL6\n",
        "\n",
        "# This divides the concentration values by 1000, making them more manageable."
      ],
      "metadata": {
        "id": "m5v8KTsy-Skb"
      },
      "execution_count": null,
      "outputs": []
    },
    {
      "cell_type": "code",
      "source": [
        "%%R\n",
        "sumIL6<-IL6%>%group_by(Treat,Day)%>%summarise(meanIL6=mean(Conc), sdIL6=sd(Conc))\n",
        "sumIL6\n",
        "\n",
        "# This groups the IL6 data by treatment and day, and then calculates the mean and\n",
        "# standard deviation of the concentration, storing this as meanIL6 and sdIL6."
      ],
      "metadata": {
        "id": "uj-ArxWM-kez"
      },
      "execution_count": null,
      "outputs": []
    },
    {
      "cell_type": "code",
      "source": [
        "%%R\n",
        "str(sumIL6)\n",
        "\n",
        "# This tells us more about the structure of the data, highlighting that 'day' is numeric."
      ],
      "metadata": {
        "id": "cySqynJIBIbi"
      },
      "execution_count": null,
      "outputs": []
    },
    {
      "cell_type": "code",
      "source": [
        "%%R\n",
        "sumIL6$Day<-factor(sumIL6$Day)\n",
        "\n",
        "# This recharacterises day as a factor"
      ],
      "metadata": {
        "id": "bhoortqMBVoJ"
      },
      "execution_count": null,
      "outputs": []
    },
    {
      "cell_type": "code",
      "source": [
        "%%R\n",
        "str(sumIL6)\n",
        "\n",
        "# This tells us more about the structure of the data, highlighting that 'day' is\n",
        "# now a factor, not a number"
      ],
      "metadata": {
        "id": "7UXxTcf_Bhjr"
      },
      "execution_count": null,
      "outputs": []
    }
  ]
}