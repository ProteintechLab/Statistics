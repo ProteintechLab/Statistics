{
  "nbformat": 4,
  "nbformat_minor": 0,
  "metadata": {
    "colab": {
      "provenance": [],
      "authorship_tag": "ABX9TyNznoAkndmDXdFZG7/Dd+rh",
      "include_colab_link": true
    },
    "kernelspec": {
      "name": "python3",
      "display_name": "Python 3"
    },
    "language_info": {
      "name": "python"
    }
  },
  "cells": [
    {
      "cell_type": "markdown",
      "metadata": {
        "id": "view-in-github",
        "colab_type": "text"
      },
      "source": [
        "<a href=\"https://colab.research.google.com/github/ProteintechLab/Statistics/blob/main/meanandsd.ipynb\" target=\"_parent\"><img src=\"https://colab.research.google.com/assets/colab-badge.svg\" alt=\"Open In Colab\"/></a>"
      ]
    },
    {
      "cell_type": "code",
      "source": [
        "%load_ext rpy2.ipython\n",
        "\n",
        "# This line of code allows Colab to interpret R commands"
      ],
      "metadata": {
        "id": "jyDGzwG48b8b",
        "colab": {
          "base_uri": "https://localhost:8080/"
        },
        "outputId": "f3781231-0f39-4e83-9dc8-4891a4d4f26e"
      },
      "execution_count": 14,
      "outputs": [
        {
          "output_type": "stream",
          "name": "stdout",
          "text": [
            "The rpy2.ipython extension is already loaded. To reload it, use:\n",
            "  %reload_ext rpy2.ipython\n"
          ]
        }
      ]
    },
    {
      "cell_type": "code",
      "execution_count": 15,
      "metadata": {
        "id": "V_v3qOwc8UGh"
      },
      "outputs": [],
      "source": [
        "%%R #This tells python that we are coding in R\n",
        "library(tidyverse)\n",
        "library(readxl)\n",
        "\n",
        "# These load in the tidyverse and read excel packages"
      ]
    },
    {
      "cell_type": "code",
      "source": [
        "%%R\n",
        "download.file(\"https://github.com/ProteintechLab/Statistics/raw/main/IL6.xlsx\", \"IL6.xlsx\")\n",
        "\n",
        "# This downloads the IL6 data set from our github and stores it as IL6.xlsx"
      ],
      "metadata": {
        "id": "6kBxC49S8j6B",
        "colab": {
          "base_uri": "https://localhost:8080/"
        },
        "outputId": "5673510d-aecf-4b7b-9745-6cfb0ac6782d"
      },
      "execution_count": 16,
      "outputs": [
        {
          "output_type": "stream",
          "name": "stderr",
          "text": [
            "WARNING:rpy2.rinterface_lib.callbacks:R[write to console]: trying URL 'https://github.com/ProteintechLab/Statistics/raw/main/IL6.xlsx'\n",
            "\n",
            "WARNING:rpy2.rinterface_lib.callbacks:R[write to console]: Content type 'application/octet-stream'\n",
            "WARNING:rpy2.rinterface_lib.callbacks:R[write to console]:  length 9132 bytes\n",
            "\n",
            "WARNING:rpy2.rinterface_lib.callbacks:R[write to console]: =\n",
            "WARNING:rpy2.rinterface_lib.callbacks:R[write to console]: =\n",
            "WARNING:rpy2.rinterface_lib.callbacks:R[write to console]: =\n",
            "WARNING:rpy2.rinterface_lib.callbacks:R[write to console]: =\n",
            "WARNING:rpy2.rinterface_lib.callbacks:R[write to console]: =\n",
            "WARNING:rpy2.rinterface_lib.callbacks:R[write to console]: =\n",
            "WARNING:rpy2.rinterface_lib.callbacks:R[write to console]: =\n",
            "WARNING:rpy2.rinterface_lib.callbacks:R[write to console]: =\n",
            "WARNING:rpy2.rinterface_lib.callbacks:R[write to console]: =\n",
            "WARNING:rpy2.rinterface_lib.callbacks:R[write to console]: =\n",
            "WARNING:rpy2.rinterface_lib.callbacks:R[write to console]: =\n",
            "WARNING:rpy2.rinterface_lib.callbacks:R[write to console]: =\n",
            "WARNING:rpy2.rinterface_lib.callbacks:R[write to console]: =\n",
            "WARNING:rpy2.rinterface_lib.callbacks:R[write to console]: =\n",
            "WARNING:rpy2.rinterface_lib.callbacks:R[write to console]: =\n",
            "WARNING:rpy2.rinterface_lib.callbacks:R[write to console]: =\n",
            "WARNING:rpy2.rinterface_lib.callbacks:R[write to console]: =\n",
            "WARNING:rpy2.rinterface_lib.callbacks:R[write to console]: =\n",
            "WARNING:rpy2.rinterface_lib.callbacks:R[write to console]: =\n",
            "WARNING:rpy2.rinterface_lib.callbacks:R[write to console]: =\n",
            "WARNING:rpy2.rinterface_lib.callbacks:R[write to console]: =\n",
            "WARNING:rpy2.rinterface_lib.callbacks:R[write to console]: =\n",
            "WARNING:rpy2.rinterface_lib.callbacks:R[write to console]: =\n",
            "WARNING:rpy2.rinterface_lib.callbacks:R[write to console]: =\n",
            "WARNING:rpy2.rinterface_lib.callbacks:R[write to console]: =\n",
            "WARNING:rpy2.rinterface_lib.callbacks:R[write to console]: =\n",
            "WARNING:rpy2.rinterface_lib.callbacks:R[write to console]: =\n",
            "WARNING:rpy2.rinterface_lib.callbacks:R[write to console]: =\n",
            "WARNING:rpy2.rinterface_lib.callbacks:R[write to console]: =\n",
            "WARNING:rpy2.rinterface_lib.callbacks:R[write to console]: =\n",
            "WARNING:rpy2.rinterface_lib.callbacks:R[write to console]: =\n",
            "WARNING:rpy2.rinterface_lib.callbacks:R[write to console]: =\n",
            "WARNING:rpy2.rinterface_lib.callbacks:R[write to console]: =\n",
            "WARNING:rpy2.rinterface_lib.callbacks:R[write to console]: =\n",
            "WARNING:rpy2.rinterface_lib.callbacks:R[write to console]: =\n",
            "WARNING:rpy2.rinterface_lib.callbacks:R[write to console]: =\n",
            "WARNING:rpy2.rinterface_lib.callbacks:R[write to console]: =\n",
            "WARNING:rpy2.rinterface_lib.callbacks:R[write to console]: =\n",
            "WARNING:rpy2.rinterface_lib.callbacks:R[write to console]: =\n",
            "WARNING:rpy2.rinterface_lib.callbacks:R[write to console]: =\n",
            "WARNING:rpy2.rinterface_lib.callbacks:R[write to console]: =\n",
            "WARNING:rpy2.rinterface_lib.callbacks:R[write to console]: =\n",
            "WARNING:rpy2.rinterface_lib.callbacks:R[write to console]: =\n",
            "WARNING:rpy2.rinterface_lib.callbacks:R[write to console]: =\n",
            "WARNING:rpy2.rinterface_lib.callbacks:R[write to console]: =\n",
            "WARNING:rpy2.rinterface_lib.callbacks:R[write to console]: =\n",
            "WARNING:rpy2.rinterface_lib.callbacks:R[write to console]: =\n",
            "WARNING:rpy2.rinterface_lib.callbacks:R[write to console]: =\n",
            "WARNING:rpy2.rinterface_lib.callbacks:R[write to console]: =\n",
            "WARNING:rpy2.rinterface_lib.callbacks:R[write to console]: =\n",
            "WARNING:rpy2.rinterface_lib.callbacks:R[write to console]: \n",
            "\n",
            "WARNING:rpy2.rinterface_lib.callbacks:R[write to console]: downloaded 9132 bytes\n",
            "\n",
            "\n"
          ]
        }
      ]
    },
    {
      "cell_type": "code",
      "source": [
        "%%R\n",
        "IL6<-read_excel(\"IL6.xlsx\")\n",
        "\n",
        "# This line reads the IL6 data in the excel sheet IL6.xlsx and stores it as the variable IL6"
      ],
      "metadata": {
        "id": "1ePLB9Fe8_sY"
      },
      "execution_count": 17,
      "outputs": []
    },
    {
      "cell_type": "code",
      "source": [
        "%%R\n",
        "IL6\n",
        "\n",
        "# This prints the data stored in IL6"
      ],
      "metadata": {
        "id": "Knb5sWtJ9zVi",
        "colab": {
          "base_uri": "https://localhost:8080/"
        },
        "outputId": "8fb74b9f-3d03-48e3-8499-0184f5543601"
      },
      "execution_count": 18,
      "outputs": [
        {
          "output_type": "stream",
          "name": "stdout",
          "text": [
            "# A tibble: 15 × 3\n",
            "   Treat      Conc   Day\n",
            "   <chr>     <dbl> <dbl>\n",
            " 1 Control   111.      1\n",
            " 2 Control   111.      1\n",
            " 3 Control   107.      1\n",
            " 4 PHA     18534.      1\n",
            " 5 PHA     19611.      1\n",
            " 6 PHA     19155.      1\n",
            " 7 PHA     19565.      1\n",
            " 8 PHA     21916.      1\n",
            " 9 Control    87.7     3\n",
            "10 Control   100.      3\n",
            "11 Control    94.2     3\n",
            "12 PHA     33330.      3\n",
            "13 PHA     39686.      3\n",
            "14 PHA     39892.      3\n",
            "15 PHA     41446.      3\n"
          ]
        }
      ]
    },
    {
      "cell_type": "code",
      "source": [
        "%%R\n",
        "IL6$Conc<-(IL6$Conc)/1000\n",
        "IL6\n",
        "\n",
        "# This divides the concentration values by 1000, making them more manageable."
      ],
      "metadata": {
        "id": "m5v8KTsy-Skb",
        "colab": {
          "base_uri": "https://localhost:8080/"
        },
        "outputId": "00fee33c-ffd5-4b9f-e1e3-e090b7e4b3ff"
      },
      "execution_count": 19,
      "outputs": [
        {
          "output_type": "stream",
          "name": "stdout",
          "text": [
            "# A tibble: 15 × 3\n",
            "   Treat      Conc   Day\n",
            "   <chr>     <dbl> <dbl>\n",
            " 1 Control  0.111      1\n",
            " 2 Control  0.111      1\n",
            " 3 Control  0.107      1\n",
            " 4 PHA     18.5        1\n",
            " 5 PHA     19.6        1\n",
            " 6 PHA     19.2        1\n",
            " 7 PHA     19.6        1\n",
            " 8 PHA     21.9        1\n",
            " 9 Control  0.0877     3\n",
            "10 Control  0.100      3\n",
            "11 Control  0.0942     3\n",
            "12 PHA     33.3        3\n",
            "13 PHA     39.7        3\n",
            "14 PHA     39.9        3\n",
            "15 PHA     41.4        3\n"
          ]
        }
      ]
    },
    {
      "cell_type": "code",
      "source": [
        "%%R\n",
        "sumIL6<-IL6%>%group_by(Treat,Day)%>%summarise(meanIL6=mean(Conc), sdIL6=sd(Conc))\n",
        "sumIL6\n",
        "\n",
        "# This groups the IL6 data by treatment and day, and then calculates the mean and\n",
        "# standard deviation of the concentration, storing this as meanIL6 and sdIL6."
      ],
      "metadata": {
        "id": "uj-ArxWM-kez",
        "colab": {
          "base_uri": "https://localhost:8080/"
        },
        "outputId": "2fa34584-fa99-4ca3-e55d-ea38e4850275"
      },
      "execution_count": 20,
      "outputs": [
        {
          "output_type": "stream",
          "name": "stdout",
          "text": [
            "`summarise()` has grouped output by 'Treat'. You can override using the\n",
            "`.groups` argument.\n",
            "# A tibble: 4 × 4\n",
            "# Groups:   Treat [2]\n",
            "  Treat     Day meanIL6   sdIL6\n",
            "  <chr>   <dbl>   <dbl>   <dbl>\n",
            "1 Control     1  0.110  0.00213\n",
            "2 Control     3  0.0940 0.00618\n",
            "3 PHA         1 19.8    1.28   \n",
            "4 PHA         3 38.6    3.59   \n"
          ]
        }
      ]
    },
    {
      "cell_type": "code",
      "source": [
        "%%R\n",
        "str(sumIL6)\n",
        "\n",
        "# This tells us more about the structure of the data, highlighting that 'day' is numeric."
      ],
      "metadata": {
        "id": "cySqynJIBIbi",
        "colab": {
          "base_uri": "https://localhost:8080/"
        },
        "outputId": "d0b5aa36-1917-4480-f918-75e0e9a0aada"
      },
      "execution_count": 21,
      "outputs": [
        {
          "output_type": "stream",
          "name": "stdout",
          "text": [
            "gropd_df [4 × 4] (S3: grouped_df/tbl_df/tbl/data.frame)\n",
            " $ Treat  : chr [1:4] \"Control\" \"Control\" \"PHA\" \"PHA\"\n",
            " $ Day    : num [1:4] 1 3 1 3\n",
            " $ meanIL6: num [1:4] 0.11 0.094 19.756 38.588\n",
            " $ sdIL6  : num [1:4] 0.00213 0.00618 1.28242 3.59227\n",
            " - attr(*, \"groups\")= tibble [2 × 2] (S3: tbl_df/tbl/data.frame)\n",
            "  ..$ Treat: chr [1:2] \"Control\" \"PHA\"\n",
            "  ..$ .rows: list<int> [1:2] \n",
            "  .. ..$ : int [1:2] 1 2\n",
            "  .. ..$ : int [1:2] 3 4\n",
            "  .. ..@ ptype: int(0) \n",
            "  ..- attr(*, \".drop\")= logi TRUE\n"
          ]
        }
      ]
    },
    {
      "cell_type": "code",
      "source": [
        "%%R\n",
        "sumIL6$Day<-factor(sumIL6$Day)\n",
        "\n",
        "# This recharacterises day as a factor"
      ],
      "metadata": {
        "id": "bhoortqMBVoJ"
      },
      "execution_count": 22,
      "outputs": []
    },
    {
      "cell_type": "code",
      "source": [
        "%%R\n",
        "str(sumIL6)\n",
        "\n",
        "# This tells us more about the structure of the data, highlighting that 'day' is\n",
        "# now a factor, not a number"
      ],
      "metadata": {
        "id": "7UXxTcf_Bhjr",
        "colab": {
          "base_uri": "https://localhost:8080/"
        },
        "outputId": "a1bf3297-7106-4750-c6f6-63521f8de720"
      },
      "execution_count": 23,
      "outputs": [
        {
          "output_type": "stream",
          "name": "stdout",
          "text": [
            "gropd_df [4 × 4] (S3: grouped_df/tbl_df/tbl/data.frame)\n",
            " $ Treat  : chr [1:4] \"Control\" \"Control\" \"PHA\" \"PHA\"\n",
            " $ Day    : Factor w/ 2 levels \"1\",\"3\": 1 2 1 2\n",
            " $ meanIL6: num [1:4] 0.11 0.094 19.756 38.588\n",
            " $ sdIL6  : num [1:4] 0.00213 0.00618 1.28242 3.59227\n",
            " - attr(*, \"groups\")= tibble [2 × 2] (S3: tbl_df/tbl/data.frame)\n",
            "  ..$ Treat: chr [1:2] \"Control\" \"PHA\"\n",
            "  ..$ .rows: list<int> [1:2] \n",
            "  .. ..$ : int [1:2] 1 2\n",
            "  .. ..$ : int [1:2] 3 4\n",
            "  .. ..@ ptype: int(0) \n",
            "  ..- attr(*, \".drop\")= logi TRUE\n"
          ]
        }
      ]
    }
  ]
}