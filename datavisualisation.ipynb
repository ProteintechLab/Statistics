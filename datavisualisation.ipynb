{
  "nbformat": 4,
  "nbformat_minor": 0,
  "metadata": {
    "colab": {
      "provenance": [],
      "include_colab_link": true
    },
    "kernelspec": {
      "name": "python3",
      "display_name": "Python 3"
    },
    "language_info": {
      "name": "python"
    }
  },
  "cells": [
    {
      "cell_type": "markdown",
      "metadata": {
        "id": "view-in-github",
        "colab_type": "text"
      },
      "source": [
        "<a href=\"https://colab.research.google.com/github/ProteintechLab/Statistics/blob/main/datavisualisation.ipynb\" target=\"_parent\"><img src=\"https://colab.research.google.com/assets/colab-badge.svg\" alt=\"Open In Colab\"/></a>"
      ]
    },
    {
      "cell_type": "code",
      "source": [
        "%load_ext rpy2.ipython\n",
        "\n",
        "# This line of code allows Colab to interpret R commands"
      ],
      "metadata": {
        "id": "jyDGzwG48b8b"
      },
      "execution_count": null,
      "outputs": []
    },
    {
      "cell_type": "code",
      "execution_count": null,
      "metadata": {
        "id": "V_v3qOwc8UGh"
      },
      "outputs": [],
      "source": [
        "%%R #This tells python that we are coding in R\n",
        "install.packages(\"readxl\")\n",
        "library(readxl)\n",
        "install.packages(\"tidyr\")\n",
        "library(tidyr)\n",
        "install.packages(\"dplyr\")\n",
        "library(dplyr)\n",
        "library(ggplot2)\n",
        "# These load in the tidyverse, dplyr, ggplot2 and read excel packages"
      ]
    },
    {
      "cell_type": "code",
      "source": [
        "%%R\n",
        "download.file(\"https://github.com/ProteintechLab/Statistics/raw/main/IL6.xlsx\", \"IL6.xlsx\")\n",
        "\n",
        "# This downloads the IL6 data set from our github and stores it as IL6.xlsx"
      ],
      "metadata": {
        "id": "6kBxC49S8j6B"
      },
      "execution_count": null,
      "outputs": []
    },
    {
      "cell_type": "code",
      "source": [
        "%%R\n",
        "IL6<-read_excel(\"IL6.xlsx\")\n",
        "\n",
        "# This line reads the IL6 data in the excel sheet IL6.xlsx and stores it as the variable IL6"
      ],
      "metadata": {
        "id": "1ePLB9Fe8_sY"
      },
      "execution_count": null,
      "outputs": []
    },
    {
      "cell_type": "code",
      "source": [
        "%%R\n",
        "IL6\n",
        "\n",
        "# This prints the data stored in IL6"
      ],
      "metadata": {
        "id": "Knb5sWtJ9zVi"
      },
      "execution_count": null,
      "outputs": []
    },
    {
      "cell_type": "code",
      "source": [
        "%%R\n",
        "IL6$Conc<-(IL6$Conc)/1000\n",
        "IL6\n",
        "\n",
        "# This divides the concentration values by 1000, making them more manageable."
      ],
      "metadata": {
        "id": "m5v8KTsy-Skb"
      },
      "execution_count": null,
      "outputs": []
    },
    {
      "cell_type": "code",
      "source": [
        "%%R\n",
        "sumIL6<-IL6%>%group_by(Treat,Day)%>%summarise(meanIL6=mean(Conc), sdIL6=sd(Conc))\n",
        "sumIL6\n",
        "\n",
        "# This groups the IL6 data by treatment and day, and then calculates the mean and\n",
        "# standard deviation of the concentration, storing this as meanIL6 and sdIL6."
      ],
      "metadata": {
        "id": "uj-ArxWM-kez"
      },
      "execution_count": null,
      "outputs": []
    },
    {
      "cell_type": "code",
      "source": [
        "%%R\n",
        "str(sumIL6)\n",
        "\n",
        "# This tells us more about the structure of the data, highlighting that 'day' is numeric."
      ],
      "metadata": {
        "id": "cySqynJIBIbi"
      },
      "execution_count": null,
      "outputs": []
    },
    {
      "cell_type": "code",
      "source": [
        "%%R\n",
        "sumIL6$Day<-factor(sumIL6$Day)\n",
        "\n",
        "# This recharacterises day as a factor"
      ],
      "metadata": {
        "id": "bhoortqMBVoJ"
      },
      "execution_count": null,
      "outputs": []
    },
    {
      "cell_type": "code",
      "source": [
        "%%R\n",
        "str(sumIL6)\n",
        "\n",
        "# This tells us more about the structure of the data, highlighting that 'day' is\n",
        "# now a factor, not a number"
      ],
      "metadata": {
        "id": "7UXxTcf_Bhjr"
      },
      "execution_count": null,
      "outputs": []
    },
    {
      "cell_type": "code",
      "source": [
        "%%R\n",
        "sumIL6%>%ggplot(aes(Day, meanIL6, fill=Treat))+geom_bar(stat=\"identity\")\n",
        "\n",
        "# This plots the data as a barplot using ggplot2, plotting Day on the x axis, and\n",
        "# meanIL6 on the y axis. fill=Treat assigns different colours to the two treatment\n",
        "# conditions present, control and PHA. geom_bar plots it as a bar graph, with\n",
        "# stat=\"identity\" ensuring the data is not plotted as a histogram.\n"
      ],
      "metadata": {
        "colab": {
          "base_uri": "https://localhost:8080/",
          "height": 497
        },
        "id": "1DBK6pdICYbU",
        "outputId": "8121ab44-9811-463e-f454-79ccb7bf0e9b"
      },
      "execution_count": null,
      "outputs": [
        {
          "output_type": "display_data",
          "data": {
            "image/png": "[encoded data removed]"
          },
          "metadata": {}
        }
      ]
    },
    {
      "cell_type": "code",
      "source": [
        "%%R\n",
        "sumIL6%>%ggplot(aes(Day, meanIL6, fill=Treat))+geom_bar(stat=\"identity\",position = position_dodge())\n",
        "\n",
        "# The position = position_dodge() prevents the bars from stacking."
      ],
      "metadata": {
        "colab": {
          "base_uri": "https://localhost:8080/",
          "height": 497
        },
        "id": "b8iQFQxCDBaj",
        "outputId": "8d233d97-22b6-44c8-852e-7bd66e4d87fa"
      },
      "execution_count": null,
      "outputs": [
        {
          "output_type": "display_data",
          "data": {
            "image/png": "[encoded data removed]"
          },
          "metadata": {}
        }
      ]
    },
    {
      "cell_type": "code",
      "source": [
        "%%R\n",
        "sumIL6%>%ggplot(aes(Day, meanIL6, fill=Treat))+geom_bar(stat=\"identity\", position = position_dodge())+\n",
        "geom_errorbar(aes(ymin = meanIL6-sdIL6, ymax = meanIL6+sdIL6), width=0.1)+\n",
        "scale_y_continuous(limits = c(0, 50), expand = c(0, 0))\n",
        "\n",
        "# geom_errorbar plots error bars on our graph, with the min and max being determined by\n",
        "# ymin and ymax (in this case mean-sd). The width can also be set.\n",
        "# The scale of the y axis is set using scale-y-continuous."
      ],
      "metadata": {
        "colab": {
          "base_uri": "https://localhost:8080/",
          "height": 497
        },
        "id": "qf8EFDvh1ziF",
        "outputId": "aaca9fef-a204-452c-8e74-6acb729806ff"
      },
      "execution_count": null,
      "outputs": [
        {
          "output_type": "display_data",
          "data": {
            "image/png": "[encoded data removed]"
          },
          "metadata": {}
        }
      ]
    },
    {
      "cell_type": "code",
      "source": [
        "%%R\n",
        "sumIL6%>%ggplot(aes(Day, meanIL6, fill=Treat))+geom_bar(stat=\"identity\", position = position_dodge())+\n",
        "geom_errorbar(aes(ymin = meanIL6-sdIL6, ymax = meanIL6+sdIL6), position=position_dodge(.9), width=0.8)+\n",
        "scale_y_continuous(limits = c(0, 50), expand = c(0, 0))\n",
        "\n",
        "# The position_dodge function is utilised again to move the error bars. Width is also adjusted."
      ],
      "metadata": {
        "colab": {
          "base_uri": "https://localhost:8080/",
          "height": 497
        },
        "id": "VUqG_xsAwv-S",
        "outputId": "a492fbb9-d53d-4e31-fff5-f46a03c2a0f8"
      },
      "execution_count": null,
      "outputs": [
        {
          "output_type": "display_data",
          "data": {
            "image/png": "[encoded data removed]"
          },
          "metadata": {}
        }
      ]
    },
    {
      "cell_type": "code",
      "source": [
        "%%R\n",
        "p2<-sumIL6%>%ggplot(aes(Day, meanIL6, fill=Treat))+geom_bar(stat=\"identity\", position = position_dodge(),colour=\"black\")+\n",
        "geom_errorbar(aes(ymin = meanIL6-sdIL6, ymax = meanIL6+sdIL6), position=position_dodge(.9), width=0.6)+\n",
        "scale_y_continuous(limits = c(0, 50), expand = c(0, 0))+ylab(\"mean IL6 ng/ml\")+\n",
        "scale_fill_manual(values=c('#66b3ff', '#cce6ff'))+theme_classic()\n",
        "p2\n",
        "ggsave(\"p2.png\")\n",
        "p2\n",
        "\n",
        "# Here the graph is altered to be more visually appealing. Black outlines are added using colour=\"black\".\n",
        "# The colours of the fill are selected using HTML colour codes and the scale_fill_manual function.\n",
        "# The graph is saved using the ggsave command. The y axis label is changed using the ylab(\"\") function.\n"
      ],
      "metadata": {
        "colab": {
          "base_uri": "https://localhost:8080/",
          "height": 514
        },
        "id": "_y_p_Z5y_Vxi",
        "outputId": "42fd711c-1f46-45d4-bb96-8078c32bc023"
      },
      "execution_count": null,
      "outputs": [
        {
          "output_type": "stream",
          "name": "stdout",
          "text": [
            "Saving 6.67 x 6.67 in image\n"
          ]
        },
        {
          "output_type": "display_data",
          "data": {
            "image/png": "[encoded data removed]"
          },
          "metadata": {}
        }
      ]
    }
  ]
}