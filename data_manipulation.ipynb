{
  "nbformat": 4,
  "nbformat_minor": 0,
  "metadata": {
    "colab": {
      "provenance": [],
      "authorship_tag": "ABX9TyMW8NEPo2fd7Arg3/OtM2DI",
      "include_colab_link": true
    },
    "kernelspec": {
      "name": "python3",
      "display_name": "Python 3"
    },
    "language_info": {
      "name": "python"
    }
  },
  "cells": [
    {
      "cell_type": "markdown",
      "metadata": {
        "id": "view-in-github",
        "colab_type": "text"
      },
      "source": [
        "<a href=\"https://colab.research.google.com/github/ProteintechLab/Statistics/blob/main/data_manipulation.ipynb\" target=\"_parent\"><img src=\"https://colab.research.google.com/assets/colab-badge.svg\" alt=\"Open In Colab\"/></a>"
      ]
    },
    {
      "cell_type": "code",
      "execution_count": 1,
      "metadata": {
        "id": "NDFkEYDp264U"
      },
      "outputs": [],
      "source": [
        "%load_ext rpy2.ipython\n",
        "\n",
        "# This line of code allows Colab to interpret R commands"
      ]
    },
    {
      "cell_type": "code",
      "source": [
        "%%R\n",
        "library(tidyverse)\n",
        "library(readxl)"
      ],
      "metadata": {
        "colab": {
          "base_uri": "https://localhost:8080/"
        },
        "id": "tKfNw9YX3FIk",
        "outputId": "b4a40693-8e6d-498b-edb4-8386a59134fe"
      },
      "execution_count": 2,
      "outputs": [
        {
          "output_type": "stream",
          "name": "stdout",
          "text": [
            "── Attaching core tidyverse packages ──────────────────────── tidyverse 2.0.0 ──\n",
            "✔ dplyr     1.1.4     ✔ readr     2.1.5\n",
            "✔ forcats   1.0.0     ✔ stringr   1.5.1\n",
            "✔ ggplot2   3.5.1     ✔ tibble    3.2.1\n",
            "✔ lubridate 1.9.4     ✔ tidyr     1.3.1\n",
            "✔ purrr     1.0.4     \n",
            "── Conflicts ────────────────────────────────────────── tidyverse_conflicts() ──\n",
            "✖ dplyr::filter() masks stats::filter()\n",
            "✖ dplyr::lag()    masks stats::lag()\n",
            "ℹ Use the conflicted package (<http://conflicted.r-lib.org/>) to force all conflicts to become errors\n"
          ]
        }
      ]
    },
    {
      "cell_type": "code",
      "source": [
        "%%R\n",
        "download.file(\"https://raw.githubusercontent.com/toryn13//Rexamples/main/IL6plate.xls\",\"IL6plate.xls\")"
      ],
      "metadata": {
        "collapsed": true,
        "id": "V-gyoyms3J-P"
      },
      "execution_count": null,
      "outputs": []
    },
    {
      "cell_type": "markdown",
      "source": [
        "## Wide to long format"
      ],
      "metadata": {
        "id": "u_LGt-9n5zBI"
      }
    },
    {
      "cell_type": "code",
      "source": [
        "%%R\n",
        "standards<-read_excel(\"IL6plate.xls\", range = \"A14:D22\")\n",
        "colnames(standards)<-c(\"cell\", \"Conc\", \"rep1\", \"rep2\")"
      ],
      "metadata": {
        "colab": {
          "base_uri": "https://localhost:8080/"
        },
        "id": "fir1U9-H55Y8",
        "outputId": "c325fe5a-bbee-431c-b3f4-632626e29833"
      },
      "execution_count": 5,
      "outputs": [
        {
          "output_type": "stream",
          "name": "stdout",
          "text": [
            "New names:\n",
            "• `` -> `...1`\n",
            "• `` -> `...4`\n"
          ]
        }
      ]
    },
    {
      "cell_type": "code",
      "source": [
        "%%R\n",
        "standards"
      ],
      "metadata": {
        "colab": {
          "base_uri": "https://localhost:8080/"
        },
        "id": "NPu_DFuW66JW",
        "outputId": "ccb7ddc5-c7a6-456d-83d9-ff2f325a4d68"
      },
      "execution_count": 8,
      "outputs": [
        {
          "output_type": "stream",
          "name": "stdout",
          "text": [
            "# A tibble: 8 × 4\n",
            "  cell    Conc  rep1  rep2\n",
            "  <chr>  <dbl> <dbl> <dbl>\n",
            "1 A       0    0.054 0.052\n",
            "2 B       7.81 0.134 0.126\n",
            "3 C      15.6  0.183 0.187\n",
            "4 D      31.2  0.307 0.31 \n",
            "5 E      62.5  0.548 0.553\n",
            "6 F     125    0.953 0.949\n",
            "7 G     250    1.68  1.65 \n",
            "8 H     500    2.59  2.54 \n"
          ]
        }
      ]
    },
    {
      "cell_type": "code",
      "source": [
        "%%R\n",
        "standardsL<-pivot_longer(standards, starts_with(\"rep\"), names_to = \"replicate\", values_to = \"Abs\")"
      ],
      "metadata": {
        "id": "_rt8S3iG6W5X"
      },
      "execution_count": 6,
      "outputs": []
    },
    {
      "cell_type": "code",
      "source": [
        "%%R\n",
        "standardsL"
      ],
      "metadata": {
        "colab": {
          "base_uri": "https://localhost:8080/"
        },
        "id": "d5ejuk7W6px5",
        "outputId": "1ecbc736-226a-4394-8f5c-c1dc814b0d87"
      },
      "execution_count": 7,
      "outputs": [
        {
          "output_type": "stream",
          "name": "stdout",
          "text": [
            "# A tibble: 16 × 4\n",
            "   cell    Conc replicate   Abs\n",
            "   <chr>  <dbl> <chr>     <dbl>\n",
            " 1 A       0    rep1      0.054\n",
            " 2 A       0    rep2      0.052\n",
            " 3 B       7.81 rep1      0.134\n",
            " 4 B       7.81 rep2      0.126\n",
            " 5 C      15.6  rep1      0.183\n",
            " 6 C      15.6  rep2      0.187\n",
            " 7 D      31.2  rep1      0.307\n",
            " 8 D      31.2  rep2      0.31 \n",
            " 9 E      62.5  rep1      0.548\n",
            "10 E      62.5  rep2      0.553\n",
            "11 F     125    rep1      0.953\n",
            "12 F     125    rep2      0.949\n",
            "13 G     250    rep1      1.68 \n",
            "14 G     250    rep2      1.65 \n",
            "15 H     500    rep1      2.59 \n",
            "16 H     500    rep2      2.54 \n"
          ]
        }
      ]
    },
    {
      "cell_type": "markdown",
      "source": [
        "### Long to wide format"
      ],
      "metadata": {
        "id": "agq-4qVd6-zl"
      }
    },
    {
      "cell_type": "code",
      "source": [
        "%%R\n",
        "standardsL%>%pivot_wider(names_from = \"replicate\", values_from = \"Abs\")"
      ],
      "metadata": {
        "colab": {
          "base_uri": "https://localhost:8080/"
        },
        "id": "JMqzdn5d7FKn",
        "outputId": "1f6dddf2-c021-49fa-e825-f3babfd2bc10"
      },
      "execution_count": 9,
      "outputs": [
        {
          "output_type": "stream",
          "name": "stdout",
          "text": [
            "# A tibble: 8 × 4\n",
            "  cell    Conc  rep1  rep2\n",
            "  <chr>  <dbl> <dbl> <dbl>\n",
            "1 A       0    0.054 0.052\n",
            "2 B       7.81 0.134 0.126\n",
            "3 C      15.6  0.183 0.187\n",
            "4 D      31.2  0.307 0.31 \n",
            "5 E      62.5  0.548 0.553\n",
            "6 F     125    0.953 0.949\n",
            "7 G     250    1.68  1.65 \n",
            "8 H     500    2.59  2.54 \n"
          ]
        }
      ]
    }
  ]
}