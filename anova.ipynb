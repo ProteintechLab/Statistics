{
  "nbformat": 4,
  "nbformat_minor": 0,
  "metadata": {
    "colab": {
      "provenance": [],
      "authorship_tag": "ABX9TyP6EO37ipq33ORFwVJ5HvcV",
      "include_colab_link": true
    },
    "kernelspec": {
      "name": "python3",
      "display_name": "Python 3"
    },
    "language_info": {
      "name": "python"
    }
  },
  "cells": [
    {
      "cell_type": "markdown",
      "metadata": {
        "id": "view-in-github",
        "colab_type": "text"
      },
      "source": [
        "<a href=\"https://colab.research.google.com/github/ProteintechLab/Statistics/blob/main/anova.ipynb\" target=\"_parent\"><img src=\"https://colab.research.google.com/assets/colab-badge.svg\" alt=\"Open In Colab\"/></a>"
      ]
    },
    {
      "cell_type": "code",
      "source": [
        "%load_ext rpy2.ipython"
      ],
      "metadata": {
        "id": "MiIp4bafVtN0"
      },
      "execution_count": null,
      "outputs": []
    },
    {
      "cell_type": "code",
      "source": [
        "%%R\n",
        "library(tidyverse)\n",
        "library(readxl)\n",
        "library(broom)"
      ],
      "metadata": {
        "id": "TEoby6SMWRFv"
      },
      "execution_count": null,
      "outputs": []
    },
    {
      "cell_type": "markdown",
      "source": [
        "##load the data"
      ],
      "metadata": {
        "id": "9zOy-2YqV32p"
      }
    },
    {
      "cell_type": "code",
      "source": [
        "%%R\n",
        "download.file(\"https://raw.githubusercontent.com/toryn13//Rexamples/main/IL6.xlsx\", \"IL6.xlsx\")"
      ],
      "metadata": {
        "id": "YWTwZa9AWklH"
      },
      "execution_count": null,
      "outputs": []
    },
    {
      "cell_type": "code",
      "execution_count": null,
      "metadata": {
        "id": "kav9D09tUJV-"
      },
      "outputs": [],
      "source": [
        "%%R\n",
        "IL6<-read_excel(\"IL6.xlsx\")\n",
        "IL6$Conc<-(IL6$Conc)/1000"
      ]
    },
    {
      "cell_type": "code",
      "source": [
        "%%R\n",
        "IL6$Day<-factor(IL6$Day)"
      ],
      "metadata": {
        "id": "wn0NyOLvUdDx"
      },
      "execution_count": null,
      "outputs": []
    },
    {
      "cell_type": "markdown",
      "source": [
        "###Make a group column"
      ],
      "metadata": {
        "id": "HLC-lEyHV-ng"
      }
    },
    {
      "cell_type": "code",
      "source": [
        "%%R\n",
        "IL6$group<-factor(paste0(IL6$Treat,\"_\",IL6$Day))\n",
        "str(IL6)"
      ],
      "metadata": {
        "colab": {
          "base_uri": "https://localhost:8080/"
        },
        "id": "T61MPBz1Ubxw",
        "outputId": "bbf677aa-ada4-41c8-d26d-f1b2df25d6ab"
      },
      "execution_count": null,
      "outputs": [
        {
          "output_type": "stream",
          "name": "stdout",
          "text": [
            "tibble [15 × 4] (S3: tbl_df/tbl/data.frame)\n",
            " $ Treat: chr [1:15] \"Control\" \"Control\" \"Control\" \"PHA\" ...\n",
            " $ Conc : num [1:15] 0.111 0.111 0.107 18.534 19.611 ...\n",
            " $ Day  : Factor w/ 2 levels \"1\",\"3\": 1 1 1 1 1 1 1 1 2 2 ...\n",
            " $ group: Factor w/ 4 levels \"Control_1\",\"Control_3\",..: 1 1 1 3 3 3 3 3 2 2 ...\n"
          ]
        }
      ]
    },
    {
      "cell_type": "markdown",
      "source": [
        "#One-way ANOVA"
      ],
      "metadata": {
        "id": "4KqSm4HpqASn"
      }
    },
    {
      "cell_type": "code",
      "source": [
        "%%R\n",
        "IL6.aov <- aov(Conc ~ group, data = IL6)\n",
        "# Summary of the analysis\n",
        "tidy(IL6.aov)"
      ],
      "metadata": {
        "colab": {
          "base_uri": "https://localhost:8080/"
        },
        "id": "13k3RVbFUB4q",
        "outputId": "b9499e20-d33a-4aac-ccee-c6d79e1a19ac"
      },
      "execution_count": null,
      "outputs": [
        {
          "output_type": "stream",
          "name": "stdout",
          "text": [
            "# A tibble: 2 × 6\n",
            "  term         df  sumsq  meansq statistic   p.value\n",
            "  <chr>     <dbl>  <dbl>   <dbl>     <dbl>     <dbl>\n",
            "1 group         3 3615.  1205.        293.  9.05e-11\n",
            "2 Residuals    11   45.3    4.12       NA  NA       \n"
          ]
        }
      ]
    },
    {
      "cell_type": "code",
      "source": [
        "%%R\n",
        "aLM <- lm(Conc ~ group, data = IL6)\n",
        "summary(aLM)"
      ],
      "metadata": {
        "colab": {
          "base_uri": "https://localhost:8080/"
        },
        "id": "feXSyAGFV3x2",
        "outputId": "741636f0-66a6-43a6-ab1c-9d623f1a4056"
      },
      "execution_count": null,
      "outputs": [
        {
          "output_type": "stream",
          "name": "stdout",
          "text": [
            "\n",
            "Call:\n",
            "lm(formula = Conc ~ group, data = IL6)\n",
            "\n",
            "Residuals:\n",
            "    Min      1Q  Median      3Q     Max \n",
            "-5.2580 -0.1682  0.0002  0.5517  2.8573 \n",
            "\n",
            "Coefficients:\n",
            "               Estimate Std. Error t value Pr(>|t|)    \n",
            "(Intercept)     0.10971    1.17153   0.094    0.927    \n",
            "groupControl_3 -0.01568    1.65679  -0.009    0.993    \n",
            "groupPHA_1     19.64656    1.48188  13.258 4.15e-08 ***\n",
            "groupPHA_3     38.47864    1.54979  24.828 5.20e-11 ***\n",
            "---\n",
            "Signif. codes:  0 ‘***’ 0.001 ‘**’ 0.01 ‘*’ 0.05 ‘.’ 0.1 ‘ ’ 1\n",
            "\n",
            "Residual standard error: 2.029 on 11 degrees of freedom\n",
            "Multiple R-squared:  0.9876,\tAdjusted R-squared:  0.9843 \n",
            "F-statistic: 292.7 on 3 and 11 DF,  p-value: 9.053e-11\n",
            "\n"
          ]
        }
      ]
    },
    {
      "cell_type": "code",
      "source": [
        "%%R\n",
        "tidy(TukeyHSD(IL6.aov, which = \"group\"))\n"
      ],
      "metadata": {
        "id": "RfAVOxVBsblE",
        "colab": {
          "base_uri": "https://localhost:8080/"
        },
        "outputId": "84978545-32b6-4bbb-92a6-f9985ccb0d96"
      },
      "execution_count": null,
      "outputs": [
        {
          "output_type": "stream",
          "name": "stdout",
          "text": [
            "# A tibble: 6 × 7\n",
            "  term  contrast            null.value estimate conf.low conf.high adj.p.value\n",
            "  <chr> <chr>                    <dbl>    <dbl>    <dbl>     <dbl>       <dbl>\n",
            "1 group Control_3-Control_1          0  -0.0157    -5.00      4.97    1.00e+ 0\n",
            "2 group PHA_1-Control_1              0  19.6       15.2      24.1     2.13e- 7\n",
            "3 group PHA_3-Control_1              0  38.5       33.8      43.1     1.32e-10\n",
            "4 group PHA_1-Control_3              0  19.7       15.2      24.1     2.11e- 7\n",
            "5 group PHA_3-Control_3              0  38.5       33.8      43.2     1.31e-10\n",
            "6 group PHA_3-PHA_1                  0  18.8       14.7      22.9     1.37e- 7\n"
          ]
        }
      ]
    },
    {
      "cell_type": "markdown",
      "source": [
        "#Two-way ANOVA"
      ],
      "metadata": {
        "id": "EgpGtzYhuro1"
      }
    },
    {
      "cell_type": "code",
      "source": [
        "%%R\n",
        "IL6.aov2 <- aov(Conc ~ Day * Treat, data = IL6)\n",
        "tidy(IL6.aov2)"
      ],
      "metadata": {
        "id": "SJ_5iRvpVQMs",
        "outputId": "a2b5a985-a10a-48f3-8e96-15a7a5ea8748",
        "colab": {
          "base_uri": "https://localhost:8080/"
        }
      },
      "execution_count": null,
      "outputs": [
        {
          "output_type": "stream",
          "name": "stdout",
          "text": [
            "# A tibble: 4 × 6\n",
            "  term         df  sumsq  meansq statistic   p.value\n",
            "  <chr>     <dbl>  <dbl>   <dbl>     <dbl>     <dbl>\n",
            "1 Day           1  351.   351.        85.3  1.62e- 6\n",
            "2 Treat         1 2946.  2946.       715.   2.32e-11\n",
            "3 Day:Treat     1  318.   318.        77.3  2.64e- 6\n",
            "4 Residuals    11   45.3    4.12      NA   NA       \n"
          ]
        }
      ]
    },
    {
      "cell_type": "code",
      "source": [
        "%%R\n",
        "a2LM <- lm(Conc ~ Day +Treat, data = IL6)\n",
        "summary(a2LM)"
      ],
      "metadata": {
        "colab": {
          "base_uri": "https://localhost:8080/"
        },
        "id": "58ZVmnOKWGGJ",
        "outputId": "d32e49eb-d561-4f48-a31a-19abe48b0924"
      },
      "execution_count": null,
      "outputs": [
        {
          "output_type": "stream",
          "name": "stdout",
          "text": [
            "\n",
            "Call:\n",
            "lm(formula = Conc ~ Day + Treat, data = IL6)\n",
            "\n",
            "Residuals:\n",
            "   Min     1Q Median     3Q    Max \n",
            "-5.633 -4.287 -1.216  5.573  7.077 \n",
            "\n",
            "Coefficients:\n",
            "            Estimate Std. Error t value Pr(>|t|)    \n",
            "(Intercept)   -5.516      2.661  -2.073  0.06037 .  \n",
            "Day3          11.237      2.852   3.939  0.00197 ** \n",
            "TreatPHA      28.648      2.905   9.863 4.16e-07 ***\n",
            "---\n",
            "Signif. codes:  0 ‘***’ 0.001 ‘**’ 0.01 ‘*’ 0.05 ‘.’ 0.1 ‘ ’ 1\n",
            "\n",
            "Residual standard error: 5.503 on 12 degrees of freedom\n",
            "Multiple R-squared:  0.9007,\tAdjusted R-squared:  0.8842 \n",
            "F-statistic: 54.44 on 2 and 12 DF,  p-value: 9.573e-07\n",
            "\n"
          ]
        }
      ]
    }
  ]
}